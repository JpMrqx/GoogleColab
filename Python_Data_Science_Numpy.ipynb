{
  "cells": [
    {
      "cell_type": "markdown",
      "metadata": {
        "id": "view-in-github",
        "colab_type": "text"
      },
      "source": [
        "<a href=\"https://colab.research.google.com/github/JpMrqx/GoogleColab/blob/main/Python_Data_Science_Numpy.ipynb\" target=\"_parent\"><img src=\"https://colab.research.google.com/assets/colab-badge.svg\" alt=\"Open In Colab\"/></a>"
      ]
    },
    {
      "cell_type": "markdown",
      "metadata": {
        "id": "do3kUOLbltjE"
      },
      "source": [
        "# <font color=green> PYTHON PARA DATA SCIENCE - NUMPY\n",
        "---"
      ]
    },
    {
      "cell_type": "markdown",
      "metadata": {
        "id": "umSz9TLxltjG"
      },
      "source": [
        "# <font color=green> 1. INTRODUÇÃO AO PYTHON\n",
        "---"
      ]
    },
    {
      "cell_type": "markdown",
      "metadata": {
        "id": "gSnX12-sltjH"
      },
      "source": [
        "# 1.1 Introdução"
      ]
    },
    {
      "cell_type": "markdown",
      "metadata": {
        "id": "SRG_k55kltjI"
      },
      "source": [
        "> Python é uma linguagem de programação de alto nível com suporte a múltiplos paradigmas de programação. É um projeto *open source* e desde seu surgimento, em 1991, vem se tornando uma das linguagens de programação interpretadas mais populares. \n",
        ">\n",
        "> Nos últimos anos Python desenvolveu uma comunidade ativa de processamento científico e análise de dados e vem se destacando como uma das linguagens mais relevantes quando o assunto é ciência de dados e machine learning, tanto no ambiente acadêmico como também no mercado."
      ]
    },
    {
      "cell_type": "markdown",
      "metadata": {
        "id": "2oZuKvWkltjJ"
      },
      "source": [
        "# 1.2 Instalação e ambiente de desenvolvimento"
      ]
    },
    {
      "cell_type": "markdown",
      "metadata": {
        "id": "v4P8bMEIltjK"
      },
      "source": [
        "### Instalação Local\n",
        "\n",
        "### https://www.python.org/downloads/\n",
        "### ou\n",
        "### https://www.anaconda.com/distribution/"
      ]
    },
    {
      "cell_type": "markdown",
      "metadata": {
        "id": "FZtu5tjrltjL"
      },
      "source": [
        "### Google Colaboratory\n",
        "\n",
        "### https://colab.research.google.com"
      ]
    },
    {
      "cell_type": "markdown",
      "metadata": {
        "id": "C6vbfq8DltjM"
      },
      "source": [
        "### Verificando versão"
      ]
    },
    {
      "cell_type": "code",
      "execution_count": null,
      "metadata": {
        "colab": {
          "base_uri": "https://localhost:8080/"
        },
        "id": "jeuAt-4NltjM",
        "outputId": "cbeadb4f-05e9-4b7b-ad78-89d89276373e"
      },
      "outputs": [
        {
          "output_type": "stream",
          "name": "stdout",
          "text": [
            "Python 3.8.10\n"
          ]
        }
      ],
      "source": [
        "!python -V"
      ]
    },
    {
      "cell_type": "markdown",
      "metadata": {
        "id": "v86aEyR2ltjR"
      },
      "source": [
        "# 1.3 Trabalhando com arrays Numpy"
      ]
    },
    {
      "cell_type": "code",
      "execution_count": null,
      "metadata": {
        "id": "6FEhElzNltjR"
      },
      "outputs": [],
      "source": [
        "import numpy as np"
      ]
    },
    {
      "cell_type": "code",
      "execution_count": null,
      "metadata": {
        "id": "qjL5wPLKltjU"
      },
      "outputs": [],
      "source": [
        "km = np.loadtxt('carros-km.txt')"
      ]
    },
    {
      "cell_type": "code",
      "execution_count": null,
      "metadata": {
        "id": "OFaxgUptltjW",
        "scrolled": true
      },
      "outputs": [],
      "source": [
        "km"
      ]
    },
    {
      "cell_type": "code",
      "execution_count": null,
      "metadata": {
        "id": "FXjYowRDltjZ"
      },
      "outputs": [],
      "source": [
        "anos = np.loadtxt('carros-anos.txt', dtype = int)"
      ]
    },
    {
      "cell_type": "code",
      "execution_count": null,
      "metadata": {
        "id": "f_d2Ya-vltjb"
      },
      "outputs": [],
      "source": [
        "anos"
      ]
    },
    {
      "cell_type": "markdown",
      "metadata": {
        "id": "wMdUsAq4ltjs"
      },
      "source": [
        "### Obtendo a quilometragem média por ano"
      ]
    },
    {
      "cell_type": "code",
      "execution_count": null,
      "metadata": {
        "id": "cD2M3s3Fltjt"
      },
      "outputs": [],
      "source": [
        "# km_media = km / (2019-anos)"
      ]
    },
    {
      "cell_type": "code",
      "execution_count": null,
      "metadata": {
        "id": "65IyPzKKltjv"
      },
      "outputs": [],
      "source": [
        "km_media"
      ]
    },
    {
      "cell_type": "code",
      "execution_count": null,
      "metadata": {
        "id": "Z0JCmAWvltjy"
      },
      "outputs": [],
      "source": [
        "type(km_media)"
      ]
    },
    {
      "cell_type": "markdown",
      "metadata": {
        "id": "KdG5NmmGltj0"
      },
      "source": [
        "# <font color=green> 2. CARACTERÍSTICAS BÁSICAS DA LINGUAGEM\n",
        "---"
      ]
    },
    {
      "cell_type": "markdown",
      "metadata": {
        "id": "X1K5kisFltj1"
      },
      "source": [
        "# 2.1 Operações matemáticas\n",
        "\n",
        "### Operadores aritméticos: $+$, $-$, $*$, $/$, $**$, $\\%$, $//$"
      ]
    },
    {
      "cell_type": "markdown",
      "metadata": {
        "id": "8YCDVpbYltj1"
      },
      "source": [
        "### Adição ($+$)"
      ]
    },
    {
      "cell_type": "code",
      "execution_count": null,
      "metadata": {
        "colab": {
          "base_uri": "https://localhost:8080/"
        },
        "id": "h6DsMqhaltj2",
        "outputId": "91ed21b8-dab1-454e-eeb6-fae33672c805"
      },
      "outputs": [
        {
          "output_type": "execute_result",
          "data": {
            "text/plain": [
              "4"
            ]
          },
          "metadata": {},
          "execution_count": 9
        }
      ],
      "source": [
        "2+2"
      ]
    },
    {
      "cell_type": "markdown",
      "metadata": {
        "id": "WeJG-WJBltj8"
      },
      "source": [
        "### Subtração ($-$)"
      ]
    },
    {
      "cell_type": "code",
      "execution_count": null,
      "metadata": {
        "colab": {
          "base_uri": "https://localhost:8080/"
        },
        "id": "zoB7_OcRltj9",
        "outputId": "afb21eb1-d7c0-4920-dead-fb4b56ca54dc"
      },
      "outputs": [
        {
          "output_type": "execute_result",
          "data": {
            "text/plain": [
              "0"
            ]
          },
          "metadata": {},
          "execution_count": 10
        }
      ],
      "source": [
        "2-2"
      ]
    },
    {
      "cell_type": "markdown",
      "metadata": {
        "id": "zuv8N7fjltkC"
      },
      "source": [
        "### Multiplicação ($*$)"
      ]
    },
    {
      "cell_type": "code",
      "execution_count": null,
      "metadata": {
        "colab": {
          "base_uri": "https://localhost:8080/"
        },
        "id": "TAWG7xSTltkD",
        "outputId": "8e7bf6d1-7805-429e-fe15-34196d8e8b24"
      },
      "outputs": [
        {
          "output_type": "execute_result",
          "data": {
            "text/plain": [
              "6"
            ]
          },
          "metadata": {},
          "execution_count": 11
        }
      ],
      "source": [
        "2*3"
      ]
    },
    {
      "cell_type": "markdown",
      "metadata": {
        "id": "dMp7BsnwltkF"
      },
      "source": [
        "### Divisão ($/$) e ($//$)\n",
        "A operação divisão sempre retorna um número de ponto flutuante"
      ]
    },
    {
      "cell_type": "code",
      "execution_count": null,
      "metadata": {
        "colab": {
          "base_uri": "https://localhost:8080/"
        },
        "id": "DD5kx3H3ltkF",
        "outputId": "c917e494-08f0-44ab-d647-22a10e4375cd"
      },
      "outputs": [
        {
          "output_type": "execute_result",
          "data": {
            "text/plain": [
              "3.3333333333333335"
            ]
          },
          "metadata": {},
          "execution_count": 12
        }
      ],
      "source": [
        "10/3"
      ]
    },
    {
      "cell_type": "code",
      "execution_count": null,
      "metadata": {
        "colab": {
          "base_uri": "https://localhost:8080/"
        },
        "id": "ji0CYH3UltkI",
        "outputId": "4c592701-9e1b-4702-9a4d-ef8b28dcc725"
      },
      "outputs": [
        {
          "output_type": "execute_result",
          "data": {
            "text/plain": [
              "3"
            ]
          },
          "metadata": {},
          "execution_count": 13
        }
      ],
      "source": [
        "10//3"
      ]
    },
    {
      "cell_type": "markdown",
      "metadata": {
        "id": "3DSO7TcvltkL"
      },
      "source": [
        "### Exponenciação ($**$)"
      ]
    },
    {
      "cell_type": "code",
      "execution_count": null,
      "metadata": {
        "colab": {
          "base_uri": "https://localhost:8080/"
        },
        "id": "tBKvl2TWltkM",
        "outputId": "5d79dd7c-b705-4fad-9a3f-1d6684a68b73"
      },
      "outputs": [
        {
          "output_type": "execute_result",
          "data": {
            "text/plain": [
              "8"
            ]
          },
          "metadata": {},
          "execution_count": 15
        }
      ],
      "source": [
        "2**3"
      ]
    },
    {
      "cell_type": "markdown",
      "metadata": {
        "id": "MhD56p-9ltkQ"
      },
      "source": [
        "### Resto da divisão ($\\%$)"
      ]
    },
    {
      "cell_type": "code",
      "execution_count": null,
      "metadata": {
        "colab": {
          "base_uri": "https://localhost:8080/"
        },
        "id": "bfa7phO6ltkR",
        "outputId": "ebdd01c7-299f-4977-aadb-6ec4d4935db0"
      },
      "outputs": [
        {
          "output_type": "execute_result",
          "data": {
            "text/plain": [
              "0"
            ]
          },
          "metadata": {},
          "execution_count": 17
        }
      ],
      "source": [
        "10%2"
      ]
    },
    {
      "cell_type": "code",
      "execution_count": null,
      "metadata": {
        "colab": {
          "base_uri": "https://localhost:8080/"
        },
        "id": "khIEx6olltkT",
        "outputId": "9db5b0bc-d8c5-446b-f54c-22be4793ce70"
      },
      "outputs": [
        {
          "output_type": "execute_result",
          "data": {
            "text/plain": [
              "1"
            ]
          },
          "metadata": {},
          "execution_count": 18
        }
      ],
      "source": [
        "10%3"
      ]
    },
    {
      "cell_type": "markdown",
      "metadata": {
        "id": "8pVVp5fsltkV"
      },
      "source": [
        "### Expressões matemáticas"
      ]
    },
    {
      "cell_type": "code",
      "execution_count": null,
      "metadata": {
        "colab": {
          "base_uri": "https://localhost:8080/"
        },
        "id": "jlQTk4gNltkW",
        "outputId": "1a415079-ee7d-417e-80bb-81fe69a7d189"
      },
      "outputs": [
        {
          "output_type": "execute_result",
          "data": {
            "text/plain": [
              "50"
            ]
          },
          "metadata": {},
          "execution_count": 19
        }
      ],
      "source": [
        "5 * (2 + 3) * 2"
      ]
    },
    {
      "cell_type": "markdown",
      "metadata": {
        "id": "a5tKQ5Beltkf"
      },
      "source": [
        "### A variável _\n",
        "\n",
        "No modo interativo, o último resultado impresso é atribuído à variável _"
      ]
    },
    {
      "cell_type": "code",
      "execution_count": null,
      "metadata": {
        "colab": {
          "base_uri": "https://localhost:8080/"
        },
        "id": "VkHEx516ltkg",
        "outputId": "86bb4c03-076c-4207-9eb5-4eee350680cd"
      },
      "outputs": [
        {
          "output_type": "execute_result",
          "data": {
            "text/plain": [
              "50"
            ]
          },
          "metadata": {},
          "execution_count": 20
        }
      ],
      "source": [
        "_"
      ]
    },
    {
      "cell_type": "code",
      "execution_count": null,
      "metadata": {
        "colab": {
          "base_uri": "https://localhost:8080/"
        },
        "id": "dFShsobXltki",
        "outputId": "f85cd632-7736-455b-edf6-78bab7032fa9"
      },
      "outputs": [
        {
          "output_type": "execute_result",
          "data": {
            "text/plain": [
              "10"
            ]
          },
          "metadata": {},
          "execution_count": 21
        }
      ],
      "source": [
        "5 * 2"
      ]
    },
    {
      "cell_type": "code",
      "execution_count": null,
      "metadata": {
        "colab": {
          "base_uri": "https://localhost:8080/"
        },
        "id": "hJIpR3KUltkk",
        "outputId": "88ee32a1-2185-4e9e-8d87-fccb7e14d965"
      },
      "outputs": [
        {
          "output_type": "execute_result",
          "data": {
            "text/plain": [
              "16"
            ]
          },
          "metadata": {},
          "execution_count": 22
        }
      ],
      "source": [
        "_ + 3 * 2"
      ]
    },
    {
      "cell_type": "markdown",
      "metadata": {
        "id": "MUrQAf6Mltkm"
      },
      "source": [
        "# 2.2 Variáveis "
      ]
    },
    {
      "cell_type": "markdown",
      "metadata": {
        "id": "qaVLKIeultkn"
      },
      "source": [
        "### Nomes de variáveis\n",
        "\n",
        "- Nomes de variáveis pode começar com letras (a - z, A - Z) ou o caractere *underscore* (_):\n",
        "\n",
        "    > Altura\n",
        "    >\n",
        "    > _peso\n",
        "    \n",
        "- O restante do nome pode conter letras, números e o caractere \"_\":\n",
        "\n",
        "    > nome_da_variavel\n",
        "    >\n",
        "    > _valor\n",
        "    >\n",
        "    > dia_28_11_\n",
        "    \n",
        "\n",
        "- O nomes são *case sensitive*:\n",
        "\n",
        "    > Nome_Da_Variável $\\ne$ nome_da_variavel $\\ne$ NOME_DA_VARIAVEL\n",
        "    \n",
        "### <font color=red>Observações:\n",
        "- Existem algumas palavras reservadas da linguagem que não podem ser utilizadas como nomes de variável:\n",
        "\n",
        "| |Lista de palavras <br>reservadas em Python| |\n",
        "|:-------------:|:------------:|:-------------:|\n",
        "| and           | as           | not           | \n",
        "| assert        | finally      | or            | \n",
        "| break         | for          | pass          | \n",
        "| class         | from         | nonlocal      | \n",
        "| continue      | global       | raise         | \n",
        "| def           | if           | return        | \n",
        "| del           | import       | try           | \n",
        "| elif          | in           | while         | \n",
        "| else          | is           | with          | \n",
        "| except        | lambda       | yield         | \n",
        "| False         | True         | None          | "
      ]
    },
    {
      "cell_type": "markdown",
      "metadata": {
        "id": "3frWjfAtltkn"
      },
      "source": [
        "### Declaração de variáveis\n",
        "\n",
        "### Operadores de atribuição: $=$, $+=$, $-=$, $*=$, $/=$, $**=$, $\\%=$, $//=$"
      ]
    },
    {
      "cell_type": "code",
      "execution_count": null,
      "metadata": {
        "id": "7VIcrXNHltko"
      },
      "outputs": [],
      "source": [
        "ano_atual = 2023\n",
        "ano_fabricacao = 2003\n",
        "km_total = 44410.0"
      ]
    },
    {
      "cell_type": "code",
      "execution_count": null,
      "metadata": {
        "colab": {
          "base_uri": "https://localhost:8080/"
        },
        "id": "atVoqp6bltkq",
        "outputId": "a4a9c93d-fa19-48f6-a8bb-43e7da7f4db5"
      },
      "outputs": [
        {
          "output_type": "execute_result",
          "data": {
            "text/plain": [
              "2023"
            ]
          },
          "metadata": {},
          "execution_count": 27
        }
      ],
      "source": [
        "ano_atual"
      ]
    },
    {
      "cell_type": "code",
      "execution_count": null,
      "metadata": {
        "colab": {
          "base_uri": "https://localhost:8080/"
        },
        "id": "_t82qXrOltkt",
        "outputId": "a1409d05-93a7-473c-8ea9-8fdf3c53c520"
      },
      "outputs": [
        {
          "output_type": "execute_result",
          "data": {
            "text/plain": [
              "2003"
            ]
          },
          "metadata": {},
          "execution_count": 28
        }
      ],
      "source": [
        "ano_fabricacao"
      ]
    },
    {
      "cell_type": "code",
      "execution_count": null,
      "metadata": {
        "colab": {
          "base_uri": "https://localhost:8080/"
        },
        "id": "1anwuDHiltkv",
        "outputId": "fa308b1e-4b72-493e-e304-4baef131126a"
      },
      "outputs": [
        {
          "output_type": "execute_result",
          "data": {
            "text/plain": [
              "44410.0"
            ]
          },
          "metadata": {},
          "execution_count": 29
        }
      ],
      "source": [
        "km_total"
      ]
    },
    {
      "cell_type": "markdown",
      "metadata": {
        "id": "gCBkfq_8ltky"
      },
      "source": [
        "# $$km_{média} = \\frac {km_{total}}{(Ano_{atual} - Ano_{fabricação})}$$"
      ]
    },
    {
      "cell_type": "markdown",
      "metadata": {
        "id": "zswWS4hNltky"
      },
      "source": [
        "### Operações com variáveis"
      ]
    },
    {
      "cell_type": "code",
      "execution_count": null,
      "metadata": {
        "colab": {
          "base_uri": "https://localhost:8080/"
        },
        "id": "HxxU0rnfltkz",
        "outputId": "eeb6a56b-43c8-4787-f480-10e0f7369b6f"
      },
      "outputs": [
        {
          "output_type": "execute_result",
          "data": {
            "text/plain": [
              "2220.5"
            ]
          },
          "metadata": {},
          "execution_count": 30
        }
      ],
      "source": [
        "km_media = km_total/(ano_atual - ano_fabricacao)\n",
        "km_media"
      ]
    },
    {
      "cell_type": "code",
      "execution_count": null,
      "metadata": {
        "colab": {
          "base_uri": "https://localhost:8080/"
        },
        "id": "_2Qhb32jltk1",
        "outputId": "2ec4d349-65a8-4c84-86ab-355255025d11"
      },
      "outputs": [
        {
          "output_type": "execute_result",
          "data": {
            "text/plain": [
              "3172.1428571428573"
            ]
          },
          "metadata": {},
          "execution_count": 31
        }
      ],
      "source": [
        "ano_atual = 2019\n",
        "ano_fabricacao = 2005\n",
        "km_total = 44410.0\n",
        "km_media = km_total/(ano_atual - ano_fabricacao)\n",
        "km_media"
      ]
    },
    {
      "cell_type": "code",
      "execution_count": null,
      "metadata": {
        "colab": {
          "base_uri": "https://localhost:8080/"
        },
        "id": "nCJzA7dyltk3",
        "outputId": "42a6b7df-a692-402b-ee04-a208bb8b86e0"
      },
      "outputs": [
        {
          "output_type": "execute_result",
          "data": {
            "text/plain": [
              "47185.625"
            ]
          },
          "metadata": {},
          "execution_count": 32
        }
      ],
      "source": [
        "ano_atual = 2019\n",
        "ano_fabricacao = 2003\n",
        "km_total = 44410.0\n",
        "km_media = km_total/(ano_atual - ano_fabricacao)\n",
        "km_total = km_total + km_media\n",
        "km_total"
      ]
    },
    {
      "cell_type": "code",
      "execution_count": null,
      "metadata": {
        "colab": {
          "base_uri": "https://localhost:8080/"
        },
        "id": "ifRwQ0vEltk9",
        "outputId": "fb892d9a-df6a-40ac-ccd6-13d23271a4e7"
      },
      "outputs": [
        {
          "output_type": "execute_result",
          "data": {
            "text/plain": [
              "47185.625"
            ]
          },
          "metadata": {},
          "execution_count": 33
        }
      ],
      "source": [
        "ano_atual = 2019\n",
        "ano_fabricacao = 2003\n",
        "km_total = 44410.0\n",
        "km_media = km_total/(ano_atual - ano_fabricacao)\n",
        "km_total += km_media\n",
        "km_total"
      ]
    },
    {
      "cell_type": "markdown",
      "metadata": {
        "id": "fDBrHWSBltlB"
      },
      "source": [
        "### Conclusão:\n",
        "```\n",
        "\"valor = valor + 1\" é equivalente a \"valor += 1\"\n",
        "```"
      ]
    },
    {
      "cell_type": "markdown",
      "metadata": {
        "id": "uVAyJbmAltlC"
      },
      "source": [
        "### Declaração múltipla"
      ]
    },
    {
      "cell_type": "code",
      "execution_count": null,
      "metadata": {
        "id": "oMWEzjPOltlC"
      },
      "outputs": [],
      "source": [
        "ano_atual, ano_fabricacao, km_total = 2019, 2003, 44410.0"
      ]
    },
    {
      "cell_type": "code",
      "execution_count": null,
      "metadata": {
        "colab": {
          "base_uri": "https://localhost:8080/"
        },
        "id": "9ZKlHkLultlE",
        "outputId": "756a166b-8f28-44cd-8bea-fd00ea9dc1b3"
      },
      "outputs": [
        {
          "output_type": "execute_result",
          "data": {
            "text/plain": [
              "2019"
            ]
          },
          "metadata": {},
          "execution_count": 35
        }
      ],
      "source": [
        "ano_atual"
      ]
    },
    {
      "cell_type": "code",
      "execution_count": null,
      "metadata": {
        "colab": {
          "base_uri": "https://localhost:8080/"
        },
        "id": "-mcMuW9nltlG",
        "outputId": "7692a1d6-cc69-4602-8f89-dfc60ff58014"
      },
      "outputs": [
        {
          "output_type": "execute_result",
          "data": {
            "text/plain": [
              "2003"
            ]
          },
          "metadata": {},
          "execution_count": 36
        }
      ],
      "source": [
        "ano_fabricacao"
      ]
    },
    {
      "cell_type": "code",
      "execution_count": null,
      "metadata": {
        "colab": {
          "base_uri": "https://localhost:8080/"
        },
        "id": "WFFavLIvltlL",
        "outputId": "7ae8e6cd-99b6-4c23-c61c-91150bd1f0e2"
      },
      "outputs": [
        {
          "output_type": "execute_result",
          "data": {
            "text/plain": [
              "44410.0"
            ]
          },
          "metadata": {},
          "execution_count": 37
        }
      ],
      "source": [
        "km_total"
      ]
    },
    {
      "cell_type": "code",
      "execution_count": null,
      "metadata": {
        "colab": {
          "base_uri": "https://localhost:8080/"
        },
        "id": "iFawOJe6ltlO",
        "outputId": "9354c863-51c3-42c9-f557-f51d3556c0fe"
      },
      "outputs": [
        {
          "output_type": "execute_result",
          "data": {
            "text/plain": [
              "2775.625"
            ]
          },
          "metadata": {},
          "execution_count": 38
        }
      ],
      "source": [
        "ano_atual, ano_fabricacao, km_total = 2019, 2003, 44410.0\n",
        "km_media = km_total/(ano_atual - ano_fabricacao)\n",
        "km_media"
      ]
    },
    {
      "cell_type": "markdown",
      "metadata": {
        "id": "uoRXMeRDltlQ"
      },
      "source": [
        "# 2.3 Tipos de dados"
      ]
    },
    {
      "cell_type": "markdown",
      "metadata": {
        "id": "sW_G6EjWltlQ"
      },
      "source": [
        "Os tipos de dados especificam como números e caracteres serão armazenados e manipulados dentro de um programa. Os tipos de dados básicos do Python são:\n",
        "\n",
        "1. **Números**\n",
        "    1. ***int*** - Inteiros\n",
        "    - ***float*** - Ponto flutuante\n",
        "- **Booleanos** - Assume os valores True ou False. Essencial quando começarmos a trabalhar com declarações condicionais\n",
        "- ***Strings*** - Sequência de um ou mais caracteres que pode incluir letras, números e outros tipos de caracteres. Representa um texto.\n",
        "- **None** - Representa a ausência de valor"
      ]
    },
    {
      "cell_type": "markdown",
      "metadata": {
        "id": "-HRRxQOtltlQ"
      },
      "source": [
        "### Números"
      ]
    },
    {
      "cell_type": "code",
      "execution_count": null,
      "metadata": {
        "id": "5PKIcIuUltlR"
      },
      "outputs": [],
      "source": [
        "ano_atual = 2022"
      ]
    },
    {
      "cell_type": "code",
      "execution_count": null,
      "metadata": {
        "id": "G32Yd1g0ltlT",
        "colab": {
          "base_uri": "https://localhost:8080/"
        },
        "outputId": "0d30bf64-5f10-4de4-a713-353501d45157"
      },
      "outputs": [
        {
          "output_type": "execute_result",
          "data": {
            "text/plain": [
              "int"
            ]
          },
          "metadata": {},
          "execution_count": 2
        }
      ],
      "source": [
        "type(ano_atual)"
      ]
    },
    {
      "cell_type": "code",
      "execution_count": null,
      "metadata": {
        "id": "b9_v__dEltlV"
      },
      "outputs": [],
      "source": [
        "km_total = 44410.0"
      ]
    },
    {
      "cell_type": "code",
      "execution_count": null,
      "metadata": {
        "id": "A0nySb3LltlZ",
        "colab": {
          "base_uri": "https://localhost:8080/"
        },
        "outputId": "3442815d-4597-49d9-d02d-755d6b2ea0d4"
      },
      "outputs": [
        {
          "output_type": "execute_result",
          "data": {
            "text/plain": [
              "float"
            ]
          },
          "metadata": {},
          "execution_count": 4
        }
      ],
      "source": [
        "type(km_total)"
      ]
    },
    {
      "cell_type": "markdown",
      "metadata": {
        "id": "7X9iheAnltld"
      },
      "source": [
        "### Booleanos"
      ]
    },
    {
      "cell_type": "code",
      "execution_count": null,
      "metadata": {
        "id": "liUYdchPltle"
      },
      "outputs": [],
      "source": [
        "zero_km = True"
      ]
    },
    {
      "cell_type": "code",
      "execution_count": null,
      "metadata": {
        "id": "oZIQAghaltlh",
        "colab": {
          "base_uri": "https://localhost:8080/"
        },
        "outputId": "d4d76760-a039-4557-fcb0-ecf7b30a049e"
      },
      "outputs": [
        {
          "output_type": "execute_result",
          "data": {
            "text/plain": [
              "bool"
            ]
          },
          "metadata": {},
          "execution_count": 6
        }
      ],
      "source": [
        "type(zero_km )"
      ]
    },
    {
      "cell_type": "code",
      "execution_count": null,
      "metadata": {
        "id": "XCAYApe3ltlj"
      },
      "outputs": [],
      "source": [
        "zero_km = False"
      ]
    },
    {
      "cell_type": "code",
      "execution_count": null,
      "metadata": {
        "id": "mJ0nGEV7ltll",
        "colab": {
          "base_uri": "https://localhost:8080/"
        },
        "outputId": "bf91c6b0-acb5-45d5-c21d-072084812736"
      },
      "outputs": [
        {
          "output_type": "execute_result",
          "data": {
            "text/plain": [
              "bool"
            ]
          },
          "metadata": {},
          "execution_count": 8
        }
      ],
      "source": [
        "type(zero_km )"
      ]
    },
    {
      "cell_type": "markdown",
      "metadata": {
        "id": "Ipjq4eiSltlp"
      },
      "source": [
        "### Strings"
      ]
    },
    {
      "cell_type": "code",
      "execution_count": null,
      "metadata": {
        "id": "OeW_GQzOltlr",
        "colab": {
          "base_uri": "https://localhost:8080/",
          "height": 36
        },
        "outputId": "f134b3aa-141a-4c8f-c858-4c734e6cd0a5"
      },
      "outputs": [
        {
          "output_type": "execute_result",
          "data": {
            "text/plain": [
              "'joao Pedro'"
            ],
            "application/vnd.google.colaboratory.intrinsic+json": {
              "type": "string"
            }
          },
          "metadata": {},
          "execution_count": 9
        }
      ],
      "source": [
        "nome = \"joao Pedro\"\n",
        "nome"
      ]
    },
    {
      "cell_type": "code",
      "execution_count": null,
      "metadata": {
        "id": "xF1Bi-Rkltlu",
        "colab": {
          "base_uri": "https://localhost:8080/",
          "height": 36
        },
        "outputId": "d3f98e92-6935-42da-e29d-9fde8490bb4d"
      },
      "outputs": [
        {
          "output_type": "execute_result",
          "data": {
            "text/plain": [
              "'Joao Pedro'"
            ],
            "application/vnd.google.colaboratory.intrinsic+json": {
              "type": "string"
            }
          },
          "metadata": {},
          "execution_count": 11
        }
      ],
      "source": [
        "nome = 'Joao Pedro'\n",
        "nome"
      ]
    },
    {
      "cell_type": "code",
      "execution_count": null,
      "metadata": {
        "id": "QlobSFUtltlw",
        "colab": {
          "base_uri": "https://localhost:8080/",
          "height": 36
        },
        "outputId": "ce059a94-5713-4ece-d9fb-43b24d2621d6"
      },
      "outputs": [
        {
          "output_type": "execute_result",
          "data": {
            "text/plain": [
              "'Joao \"Pedro\"'"
            ],
            "application/vnd.google.colaboratory.intrinsic+json": {
              "type": "string"
            }
          },
          "metadata": {},
          "execution_count": 12
        }
      ],
      "source": [
        "nome = 'Joao \"Pedro\"'\n",
        "nome"
      ]
    },
    {
      "cell_type": "code",
      "execution_count": null,
      "metadata": {
        "id": "8LBWzzfbltly",
        "colab": {
          "base_uri": "https://localhost:8080/",
          "height": 36
        },
        "outputId": "4732c75f-b946-4c08-9a72-f1f2d06dd82a"
      },
      "outputs": [
        {
          "output_type": "execute_result",
          "data": {
            "text/plain": [
              "\"Joao 'Pedro'\""
            ],
            "application/vnd.google.colaboratory.intrinsic+json": {
              "type": "string"
            }
          },
          "metadata": {},
          "execution_count": 13
        }
      ],
      "source": [
        "nome = \"Joao 'Pedro'\"\n",
        "nome"
      ]
    },
    {
      "cell_type": "code",
      "execution_count": null,
      "metadata": {
        "id": "ycEhoxtUltl0",
        "colab": {
          "base_uri": "https://localhost:8080/",
          "height": 36
        },
        "outputId": "b7d99d4a-fe72-4704-9d21-2d32422d2b58"
      },
      "outputs": [
        {
          "output_type": "execute_result",
          "data": {
            "text/plain": [
              "'\\n  Nome\\n  Idade\\n  Nota\\n'"
            ],
            "application/vnd.google.colaboratory.intrinsic+json": {
              "type": "string"
            }
          },
          "metadata": {},
          "execution_count": 15
        }
      ],
      "source": [
        "carro = '''\n",
        "  Nome\n",
        "  Idade\n",
        "  Nota\n",
        "'''\n",
        "carro"
      ]
    },
    {
      "cell_type": "code",
      "execution_count": null,
      "metadata": {
        "id": "bjZQzpuUltl2",
        "colab": {
          "base_uri": "https://localhost:8080/"
        },
        "outputId": "f1b403e5-7fe7-427f-cdbd-50e9d69b1a59"
      },
      "outputs": [
        {
          "output_type": "execute_result",
          "data": {
            "text/plain": [
              "str"
            ]
          },
          "metadata": {},
          "execution_count": 16
        }
      ],
      "source": [
        "type (carro)"
      ]
    },
    {
      "cell_type": "markdown",
      "metadata": {
        "id": "w6bJU-R9ltl5"
      },
      "source": [
        "### None"
      ]
    },
    {
      "cell_type": "code",
      "execution_count": null,
      "metadata": {
        "id": "RgeVhXGxltl5"
      },
      "outputs": [],
      "source": [
        "quilometragem = None"
      ]
    },
    {
      "cell_type": "code",
      "execution_count": null,
      "metadata": {
        "id": "MJI6PKS6ltl8",
        "colab": {
          "base_uri": "https://localhost:8080/"
        },
        "outputId": "0db87db6-40c2-4756-e9fa-96b47205cd1d"
      },
      "outputs": [
        {
          "output_type": "execute_result",
          "data": {
            "text/plain": [
              "NoneType"
            ]
          },
          "metadata": {},
          "execution_count": 19
        }
      ],
      "source": [
        "type(quilometragem)"
      ]
    },
    {
      "cell_type": "markdown",
      "metadata": {
        "id": "_ilupwV-ltl-"
      },
      "source": [
        "# 2.4 Conversão de tipos"
      ]
    },
    {
      "cell_type": "code",
      "execution_count": null,
      "metadata": {
        "id": "D5hq5Qbvltl-"
      },
      "outputs": [],
      "source": [
        "a = 10\n",
        "b = 20\n",
        "c = 'Python é '\n",
        "d = 'Legal'"
      ]
    },
    {
      "cell_type": "code",
      "execution_count": null,
      "metadata": {
        "id": "aJ0vi8_Nltl_",
        "colab": {
          "base_uri": "https://localhost:8080/"
        },
        "outputId": "2b155bfa-7ac2-4f45-97ba-9746cb4bc21b"
      },
      "outputs": [
        {
          "output_type": "execute_result",
          "data": {
            "text/plain": [
              "int"
            ]
          },
          "metadata": {},
          "execution_count": 21
        }
      ],
      "source": [
        "type(a)"
      ]
    },
    {
      "cell_type": "code",
      "execution_count": null,
      "metadata": {
        "id": "29FVH7p7ltmB",
        "colab": {
          "base_uri": "https://localhost:8080/"
        },
        "outputId": "3557d8eb-6ac4-4892-de88-1bb24ed11b31"
      },
      "outputs": [
        {
          "output_type": "execute_result",
          "data": {
            "text/plain": [
              "int"
            ]
          },
          "metadata": {},
          "execution_count": 22
        }
      ],
      "source": [
        "type(b)"
      ]
    },
    {
      "cell_type": "code",
      "execution_count": null,
      "metadata": {
        "id": "NGseTO2SltmC",
        "colab": {
          "base_uri": "https://localhost:8080/"
        },
        "outputId": "3406eb29-3346-4fef-c3e4-5525dc50a04c"
      },
      "outputs": [
        {
          "output_type": "execute_result",
          "data": {
            "text/plain": [
              "str"
            ]
          },
          "metadata": {},
          "execution_count": 23
        }
      ],
      "source": [
        "type(c)"
      ]
    },
    {
      "cell_type": "code",
      "execution_count": null,
      "metadata": {
        "id": "yaSBhwNWltmE",
        "colab": {
          "base_uri": "https://localhost:8080/"
        },
        "outputId": "2053c08a-0d1a-4510-fbb2-239b462b2674"
      },
      "outputs": [
        {
          "output_type": "execute_result",
          "data": {
            "text/plain": [
              "str"
            ]
          },
          "metadata": {},
          "execution_count": 24
        }
      ],
      "source": [
        "type(d)"
      ]
    },
    {
      "cell_type": "code",
      "execution_count": null,
      "metadata": {
        "id": "5zMXVwLHltmF",
        "colab": {
          "base_uri": "https://localhost:8080/"
        },
        "outputId": "be5313b2-2be9-4d6b-b23d-2c31483c9771"
      },
      "outputs": [
        {
          "output_type": "execute_result",
          "data": {
            "text/plain": [
              "30"
            ]
          },
          "metadata": {},
          "execution_count": 25
        }
      ],
      "source": [
        "a + b"
      ]
    },
    {
      "cell_type": "code",
      "execution_count": null,
      "metadata": {
        "id": "JJrqKRZFltmJ",
        "colab": {
          "base_uri": "https://localhost:8080/",
          "height": 36
        },
        "outputId": "7994740e-26e9-4bf0-ccca-7477ab5e2012"
      },
      "outputs": [
        {
          "output_type": "execute_result",
          "data": {
            "text/plain": [
              "'Python é Legal'"
            ],
            "application/vnd.google.colaboratory.intrinsic+json": {
              "type": "string"
            }
          },
          "metadata": {},
          "execution_count": 26
        }
      ],
      "source": [
        "c + d"
      ]
    },
    {
      "cell_type": "code",
      "execution_count": null,
      "metadata": {
        "id": "hWEIttpgltmM"
      },
      "outputs": [],
      "source": [
        "#c + a"
      ]
    },
    {
      "cell_type": "markdown",
      "metadata": {
        "id": "dByigpENltmO"
      },
      "source": [
        "### Conversões de tipo\n",
        "\n",
        "Funções int(), float(), str()"
      ]
    },
    {
      "cell_type": "code",
      "execution_count": null,
      "metadata": {
        "id": "MtecvWlsltmP",
        "colab": {
          "base_uri": "https://localhost:8080/",
          "height": 36
        },
        "outputId": "28b11bae-7152-4206-c179-f745791e8bbc"
      },
      "outputs": [
        {
          "output_type": "execute_result",
          "data": {
            "text/plain": [
              "'10'"
            ],
            "application/vnd.google.colaboratory.intrinsic+json": {
              "type": "string"
            }
          },
          "metadata": {},
          "execution_count": 29
        }
      ],
      "source": [
        "str(a)"
      ]
    },
    {
      "cell_type": "code",
      "execution_count": null,
      "metadata": {
        "id": "S1NuIhDVltmS",
        "colab": {
          "base_uri": "https://localhost:8080/",
          "height": 36
        },
        "outputId": "6938542d-11bd-4e70-ba43-0b20d257334f"
      },
      "outputs": [
        {
          "output_type": "execute_result",
          "data": {
            "text/plain": [
              "'Python é 10'"
            ],
            "application/vnd.google.colaboratory.intrinsic+json": {
              "type": "string"
            }
          },
          "metadata": {},
          "execution_count": 30
        }
      ],
      "source": [
        "c + str(a)"
      ]
    },
    {
      "cell_type": "code",
      "execution_count": null,
      "metadata": {
        "id": "3kCUD1X-ltmT",
        "colab": {
          "base_uri": "https://localhost:8080/"
        },
        "outputId": "74765983-7657-4aa2-a604-2d2e8f904d80"
      },
      "outputs": [
        {
          "output_type": "execute_result",
          "data": {
            "text/plain": [
              "str"
            ]
          },
          "metadata": {},
          "execution_count": 31
        }
      ],
      "source": [
        "type(str(a))"
      ]
    },
    {
      "cell_type": "code",
      "execution_count": null,
      "metadata": {
        "id": "TTjSEVRaltmU",
        "colab": {
          "base_uri": "https://localhost:8080/"
        },
        "outputId": "0c23dd54-59f5-4d62-aa4d-faf2056fbb59"
      },
      "outputs": [
        {
          "output_type": "execute_result",
          "data": {
            "text/plain": [
              "10.0"
            ]
          },
          "metadata": {},
          "execution_count": 32
        }
      ],
      "source": [
        "float(a)"
      ]
    },
    {
      "cell_type": "code",
      "execution_count": null,
      "metadata": {
        "id": "P1P1bXaYltmV"
      },
      "outputs": [],
      "source": [
        "var = 3.141592"
      ]
    },
    {
      "cell_type": "code",
      "execution_count": null,
      "metadata": {
        "id": "F_8Cn0aAltmW",
        "colab": {
          "base_uri": "https://localhost:8080/"
        },
        "outputId": "452c232e-8026-48df-fc3c-adf8054c53e9"
      },
      "outputs": [
        {
          "output_type": "execute_result",
          "data": {
            "text/plain": [
              "3"
            ]
          },
          "metadata": {},
          "execution_count": 35
        }
      ],
      "source": [
        "int(var)"
      ]
    },
    {
      "cell_type": "code",
      "execution_count": null,
      "metadata": {
        "id": "_KA6MUgmltmY"
      },
      "outputs": [],
      "source": [
        "var = 3.99"
      ]
    },
    {
      "cell_type": "code",
      "execution_count": null,
      "metadata": {
        "id": "7uiCxqUcltma",
        "colab": {
          "base_uri": "https://localhost:8080/"
        },
        "outputId": "7dbdc83d-ed45-44a0-f958-cb7f9a45587b"
      },
      "outputs": [
        {
          "output_type": "execute_result",
          "data": {
            "text/plain": [
              "3"
            ]
          },
          "metadata": {},
          "execution_count": 37
        }
      ],
      "source": [
        "int(var)"
      ]
    },
    {
      "cell_type": "markdown",
      "metadata": {
        "id": "gGpflJMYltmd"
      },
      "source": [
        "# 2.5 Indentação, comentários e formatação de *strings*"
      ]
    },
    {
      "cell_type": "markdown",
      "metadata": {
        "id": "XbijUgqVltmw"
      },
      "source": [
        "### Indentação\n",
        "\n",
        "Na linguagem Python os programas são estruturados por meio de indentação. Em qualquer linguagem de programação a prática da indentação é bastante útil, facilitando a leitura e também a manutenção do código. Em Python a indentação não é somente uma questão de organização e estilo, mas sim um requisito da linguagem."
      ]
    },
    {
      "cell_type": "code",
      "execution_count": null,
      "metadata": {
        "id": "DqXANnyultmw"
      },
      "outputs": [],
      "source": [
        "ano_atual = 2019\n",
        "ano_fabricacao = 2019\n",
        "\n",
        "if (ano_atual == ano_fabricacao):\n",
        "    print('Verdadeiro')\n",
        "else:\n",
        "    print('Falso')"
      ]
    },
    {
      "cell_type": "markdown",
      "metadata": {
        "id": "dNBfv7x7ltmy"
      },
      "source": [
        "### Comentários\n",
        "\n",
        "Comentários são extremamente importantes em um programa. Consiste em um texto que descreve o que o programa ou uma parte específica do programa está fazendo. Os comentários são ignorados pelo interpretador Python. \n",
        "\n",
        "Podemos ter comentários de uma única linha ou de múltiplas linhas."
      ]
    },
    {
      "cell_type": "code",
      "execution_count": null,
      "metadata": {
        "id": "GN3DfwiRltmy"
      },
      "outputs": [],
      "source": [
        "# Isto é um comentário\n",
        "ano_atual = 2019\n",
        "ano_atual"
      ]
    },
    {
      "cell_type": "code",
      "execution_count": null,
      "metadata": {
        "id": "PICBiohFltm2"
      },
      "outputs": [],
      "source": [
        "# Isto\n",
        "# é um \n",
        "# comentário\n",
        "ano_atual = 2019\n",
        "ano_atual"
      ]
    },
    {
      "cell_type": "code",
      "execution_count": null,
      "metadata": {
        "id": "PTkJ4Vjultm4"
      },
      "outputs": [],
      "source": [
        "'''Isto é um\n",
        "comentário'''\n",
        "ano_atual = 2019\n",
        "ano_atual"
      ]
    },
    {
      "cell_type": "code",
      "execution_count": null,
      "metadata": {
        "id": "SYEGdALxltm5"
      },
      "outputs": [],
      "source": [
        "# Definindo variáveis\n",
        "ano_atual = 2019\n",
        "ano_fabricacao = 2019\n",
        "\n",
        "'''\n",
        "Estrutura condicional que vamos \n",
        "aprender na próxima aula\n",
        "'''\n",
        "if (ano_atual == ano_fabricacao):   # Testando se condição é verdadeira\n",
        "    print('Verdadeiro')\n",
        "else:                               # Testando se condição é falsa\n",
        "    print('Falso')"
      ]
    },
    {
      "cell_type": "markdown",
      "metadata": {
        "id": "8--bcJ01ltm8"
      },
      "source": [
        "### Formatação de *strings*"
      ]
    },
    {
      "cell_type": "markdown",
      "metadata": {
        "id": "8lSC0XEDltm-"
      },
      "source": [
        "## *str % valor*\n",
        "https://docs.python.org/3.6/library/stdtypes.html#old-string-formatting"
      ]
    },
    {
      "cell_type": "code",
      "execution_count": null,
      "metadata": {
        "id": "aqqBQJ8kltm_"
      },
      "outputs": [],
      "source": []
    },
    {
      "cell_type": "code",
      "execution_count": null,
      "metadata": {
        "id": "EFK1y92vltnA"
      },
      "outputs": [],
      "source": []
    },
    {
      "cell_type": "code",
      "execution_count": null,
      "metadata": {
        "id": "3Y-V_AVDltnD"
      },
      "outputs": [],
      "source": []
    },
    {
      "cell_type": "code",
      "execution_count": null,
      "metadata": {
        "id": "pr4wrDaSltnE"
      },
      "outputs": [],
      "source": []
    },
    {
      "cell_type": "code",
      "execution_count": null,
      "metadata": {
        "id": "iQVGzKNvltnF"
      },
      "outputs": [],
      "source": []
    },
    {
      "cell_type": "markdown",
      "metadata": {
        "id": "CMovhJZ_ltnG"
      },
      "source": [
        "## *str.format()*\n",
        "\n",
        "https://docs.python.org/3.6/library/stdtypes.html#str.format"
      ]
    },
    {
      "cell_type": "code",
      "execution_count": null,
      "metadata": {
        "id": "N12xmMehltnG",
        "colab": {
          "base_uri": "https://localhost:8080/"
        },
        "outputId": "73463d84-6cfd-4c0a-de05-91f685a87b0a"
      },
      "outputs": [
        {
          "output_type": "stream",
          "name": "stdout",
          "text": [
            "Olá Joao!\n"
          ]
        }
      ],
      "source": [
        "print('Olá {}!' .format('Joao'))"
      ]
    },
    {
      "cell_type": "code",
      "execution_count": null,
      "metadata": {
        "id": "mRBmU9G1ltnJ",
        "colab": {
          "base_uri": "https://localhost:8080/"
        },
        "outputId": "8b52e44e-603b-4cca-9827-e333e36ba03f"
      },
      "outputs": [
        {
          "output_type": "stream",
          "name": "stdout",
          "text": [
            "Olá Joao! esse é o numero de seu acesso 32\n"
          ]
        }
      ],
      "source": [
        "print('Olá {}! esse é o numero de seu acesso {}' .format('Joao' , 32))"
      ]
    },
    {
      "cell_type": "code",
      "execution_count": null,
      "metadata": {
        "id": "wpqEsTwnltnL",
        "colab": {
          "base_uri": "https://localhost:8080/"
        },
        "outputId": "f19c2e93-1c66-42fc-eb14-81b27df0c900"
      },
      "outputs": [
        {
          "output_type": "stream",
          "name": "stdout",
          "text": [
            "Olá Joao! esse é o numero de seu acesso 32\n"
          ]
        }
      ],
      "source": [
        "print('Olá {nome}! esse é o numero de seu acesso {acesso}' .format(nome ='Joao' , acesso = 32))\n"
      ]
    },
    {
      "cell_type": "markdown",
      "metadata": {
        "id": "V-wPNUN9ltnN"
      },
      "source": [
        "## *f-Strings*\n",
        "\n",
        "https://docs.python.org/3.6/reference/lexical_analysis.html#f-strings"
      ]
    },
    {
      "cell_type": "code",
      "execution_count": null,
      "metadata": {
        "id": "7Fq_WPv0ltnO"
      },
      "outputs": [],
      "source": [
        "nome ='Joao' \n",
        "acesso = 32"
      ]
    },
    {
      "cell_type": "code",
      "execution_count": null,
      "metadata": {
        "id": "bE3qbd6WltnR",
        "colab": {
          "base_uri": "https://localhost:8080/"
        },
        "outputId": "fb61660c-1d5d-40ae-c892-af107e6dda14"
      },
      "outputs": [
        {
          "output_type": "stream",
          "name": "stdout",
          "text": [
            "Olá Joao! esse é o numero de seu acesso 32\n"
          ]
        }
      ],
      "source": [
        "print(f'Olá {nome}! esse é o numero de seu acesso {acesso}')"
      ]
    },
    {
      "cell_type": "markdown",
      "metadata": {
        "id": "_IZuNE48ltnS"
      },
      "source": [
        "# <font color=green> 3. TRABALHANDO COM LISTAS\n",
        "---"
      ]
    },
    {
      "cell_type": "markdown",
      "metadata": {
        "id": "zhS89xysltnS"
      },
      "source": [
        "# 3.1 Criando listas\n",
        "\n",
        "Listas são sequências **mutáveis** que são utilizadas para armazenar coleções de itens, geralmente homogêneos. Podem ser construídas de várias formas:\n",
        "```\n",
        "- Utilizando um par de colchetes: [ ], [ 1 ]\n",
        "- Utilizando um par de colchetes com itens separados por vírgulas: [ 1, 2, 3 ]\n",
        "```"
      ]
    },
    {
      "cell_type": "code",
      "execution_count": null,
      "metadata": {
        "id": "aE4UWF10ltnS",
        "colab": {
          "base_uri": "https://localhost:8080/"
        },
        "outputId": "dbe1454a-83d0-4d85-97c2-d17b111ba369"
      },
      "outputs": [
        {
          "output_type": "execute_result",
          "data": {
            "text/plain": [
              "['Rodas de liga',\n",
              " 'Travas elétricas',\n",
              " 'Piloto automático',\n",
              " 'Bancos de couro',\n",
              " 'Ar condicionado',\n",
              " 'Sensor de estacionamento',\n",
              " 'Sensor crepuscular',\n",
              " 'Sensor de chuva']"
            ]
          },
          "metadata": {},
          "execution_count": 5
        }
      ],
      "source": [
        "Acessorios = ['Rodas de liga', 'Travas elétricas', 'Piloto automático', 'Bancos de couro', 'Ar condicionado', 'Sensor de estacionamento', 'Sensor crepuscular', 'Sensor de chuva']\n",
        "Acessorios"
      ]
    },
    {
      "cell_type": "markdown",
      "metadata": {
        "id": "Mmlkh5TVltnT"
      },
      "source": [
        "### Lista com tipos de dados variados"
      ]
    },
    {
      "cell_type": "code",
      "execution_count": null,
      "metadata": {
        "id": "Mfpu7NoJltnT"
      },
      "outputs": [],
      "source": [
        "Carro_1 = ['Jetta Variant', 'Motor 4.0 Turbo', 2003, 44410.0, False, ['Rodas de liga', 'Travas elétricas', 'Piloto automático'], 88078.64]\n",
        "Carro_2 = ['Passat', 'Motor Diesel', 1991, 5712.0, False, ['Central multimídia', 'Teto panorâmico', 'Freios ABS'], 106161.94]"
      ]
    },
    {
      "cell_type": "code",
      "execution_count": null,
      "metadata": {
        "id": "EJSJFJjKltnV",
        "colab": {
          "base_uri": "https://localhost:8080/"
        },
        "outputId": "7877bf47-4631-4acd-eb3a-790dc8367221"
      },
      "outputs": [
        {
          "output_type": "execute_result",
          "data": {
            "text/plain": [
              "['Jetta Variant',\n",
              " 'Motor 4.0 Turbo',\n",
              " 2003,\n",
              " 44410.0,\n",
              " False,\n",
              " ['Rodas de liga', 'Travas elétricas', 'Piloto automático'],\n",
              " 88078.64]"
            ]
          },
          "metadata": {},
          "execution_count": 25
        }
      ],
      "source": [
        "Carro_1"
      ]
    },
    {
      "cell_type": "code",
      "execution_count": null,
      "metadata": {
        "id": "7MMG7L8VltnX",
        "colab": {
          "base_uri": "https://localhost:8080/"
        },
        "outputId": "e6370125-cfe1-414e-bb71-620afdc8d954"
      },
      "outputs": [
        {
          "output_type": "execute_result",
          "data": {
            "text/plain": [
              "['Passat',\n",
              " 'Motor Diesel',\n",
              " 1991,\n",
              " 5712.0,\n",
              " False,\n",
              " ['Central multimídia', 'Teto panorâmico', 'Freios ABS'],\n",
              " 106161.94]"
            ]
          },
          "metadata": {},
          "execution_count": 5
        }
      ],
      "source": [
        "Carro_2"
      ]
    },
    {
      "cell_type": "code",
      "execution_count": null,
      "metadata": {
        "id": "7E8erLgZltnZ",
        "colab": {
          "base_uri": "https://localhost:8080/"
        },
        "outputId": "5e594bd6-a522-475f-943e-ffa5ec4547be"
      },
      "outputs": [
        {
          "output_type": "execute_result",
          "data": {
            "text/plain": [
              "[['Jetta Variant',\n",
              "  'Motor 4.0 Turbo',\n",
              "  2003,\n",
              "  44410.0,\n",
              "  False,\n",
              "  ['Rodas de liga', 'Travas elétricas', 'Piloto automático'],\n",
              "  88078.64],\n",
              " ['Passat',\n",
              "  'Motor Diesel',\n",
              "  1991,\n",
              "  5712.0,\n",
              "  False,\n",
              "  ['Central multimídia', 'Teto panorâmico', 'Freios ABS'],\n",
              "  106161.94]]"
            ]
          },
          "metadata": {},
          "execution_count": 3
        }
      ],
      "source": [
        "carros = [Carro_1, Carro_2]\n",
        "carros"
      ]
    },
    {
      "cell_type": "markdown",
      "metadata": {
        "id": "5yMXJ0xdltna"
      },
      "source": [
        "# 3.2 Operações com listas\n",
        "\n",
        "https://docs.python.org/3.6/library/stdtypes.html#common-sequence-operations"
      ]
    },
    {
      "cell_type": "markdown",
      "metadata": {
        "id": "YSorJOGlltna"
      },
      "source": [
        "## *x in A*\n",
        "\n",
        "Retorna **True** se um elemento da lista *A* for igual a *x*."
      ]
    },
    {
      "cell_type": "code",
      "execution_count": null,
      "metadata": {
        "id": "GgSP_nlHltnb",
        "colab": {
          "base_uri": "https://localhost:8080/"
        },
        "outputId": "7bb23a79-bec5-44ab-c504-b44b7e246a23"
      },
      "outputs": [
        {
          "output_type": "execute_result",
          "data": {
            "text/plain": [
              "['Rodas de liga',\n",
              " 'Travas elétricas',\n",
              " 'Piloto automático',\n",
              " 'Bancos de couro',\n",
              " 'Ar condicionado',\n",
              " 'Sensor de estacionamento',\n",
              " 'Sensor crepuscular',\n",
              " 'Sensor de chuva']"
            ]
          },
          "metadata": {},
          "execution_count": 6
        }
      ],
      "source": [
        "Acessorios"
      ]
    },
    {
      "cell_type": "code",
      "execution_count": null,
      "metadata": {
        "id": "_JyyHPmWltnd",
        "colab": {
          "base_uri": "https://localhost:8080/"
        },
        "outputId": "e84cdae8-65b6-4d8c-f47f-f257d0e26d48"
      },
      "outputs": [
        {
          "output_type": "execute_result",
          "data": {
            "text/plain": [
              "True"
            ]
          },
          "metadata": {},
          "execution_count": 11
        }
      ],
      "source": [
        "'Rodas de liga' in Acessorios"
      ]
    },
    {
      "cell_type": "code",
      "execution_count": null,
      "metadata": {
        "id": "tebg9gAyltne",
        "colab": {
          "base_uri": "https://localhost:8080/"
        },
        "outputId": "2323828f-af43-42d4-e40d-867b7c9f5724"
      },
      "outputs": [
        {
          "output_type": "execute_result",
          "data": {
            "text/plain": [
              "False"
            ]
          },
          "metadata": {},
          "execution_count": 12
        }
      ],
      "source": [
        "'4 x 4' in Acessorios"
      ]
    },
    {
      "cell_type": "code",
      "execution_count": null,
      "metadata": {
        "id": "W_1PKJYsltnf",
        "colab": {
          "base_uri": "https://localhost:8080/"
        },
        "outputId": "6ffd9b1a-8f0f-4062-8002-2950aff5f0dc"
      },
      "outputs": [
        {
          "output_type": "execute_result",
          "data": {
            "text/plain": [
              "False"
            ]
          },
          "metadata": {},
          "execution_count": 13
        }
      ],
      "source": [
        "'Rodas de liga' not in Acessorios"
      ]
    },
    {
      "cell_type": "code",
      "execution_count": null,
      "metadata": {
        "id": "1WNsBXFyltng",
        "colab": {
          "base_uri": "https://localhost:8080/"
        },
        "outputId": "35617bfc-4688-4af6-8c00-b58a3e435b02"
      },
      "outputs": [
        {
          "output_type": "execute_result",
          "data": {
            "text/plain": [
              "True"
            ]
          },
          "metadata": {},
          "execution_count": 14
        }
      ],
      "source": [
        "'4 x 4' not in Acessorios"
      ]
    },
    {
      "cell_type": "markdown",
      "metadata": {
        "id": "RF6_rf90ltnh"
      },
      "source": [
        "## *A + B*\n",
        "\n",
        "Concatena as listas *A* e *B*."
      ]
    },
    {
      "cell_type": "code",
      "execution_count": null,
      "metadata": {
        "id": "8lnzbYnRltnh"
      },
      "outputs": [],
      "source": [
        "A = ['Rodas de liga', 'Travas elétricas', 'Piloto automático', 'Bancos de couro']\n",
        "B = ['Ar condicionado', 'Sensor de estacionamento', 'Sensor crepuscular', 'Sensor de chuva']"
      ]
    },
    {
      "cell_type": "code",
      "execution_count": null,
      "metadata": {
        "id": "SzbiHHF4ltni",
        "colab": {
          "base_uri": "https://localhost:8080/"
        },
        "outputId": "a02970c5-3ed2-4eb7-d990-0c2271e1ec34"
      },
      "outputs": [
        {
          "output_type": "execute_result",
          "data": {
            "text/plain": [
              "['Rodas de liga', 'Travas elétricas', 'Piloto automático', 'Bancos de couro']"
            ]
          },
          "metadata": {},
          "execution_count": 16
        }
      ],
      "source": [
        "A"
      ]
    },
    {
      "cell_type": "code",
      "execution_count": null,
      "metadata": {
        "id": "It5Cn5aXltni",
        "colab": {
          "base_uri": "https://localhost:8080/"
        },
        "outputId": "ebc7de0c-00bb-40be-ba10-22fea821f801"
      },
      "outputs": [
        {
          "output_type": "execute_result",
          "data": {
            "text/plain": [
              "['Ar condicionado',\n",
              " 'Sensor de estacionamento',\n",
              " 'Sensor crepuscular',\n",
              " 'Sensor de chuva']"
            ]
          },
          "metadata": {},
          "execution_count": 17
        }
      ],
      "source": [
        "B"
      ]
    },
    {
      "cell_type": "code",
      "execution_count": null,
      "metadata": {
        "id": "l7gF4Ph5ltnj",
        "colab": {
          "base_uri": "https://localhost:8080/"
        },
        "outputId": "0aea2442-4d3c-4f19-c2a5-2d4784ee5f02"
      },
      "outputs": [
        {
          "output_type": "execute_result",
          "data": {
            "text/plain": [
              "['Rodas de liga',\n",
              " 'Travas elétricas',\n",
              " 'Piloto automático',\n",
              " 'Bancos de couro',\n",
              " 'Ar condicionado',\n",
              " 'Sensor de estacionamento',\n",
              " 'Sensor crepuscular',\n",
              " 'Sensor de chuva']"
            ]
          },
          "metadata": {},
          "execution_count": 18
        }
      ],
      "source": [
        "A + B"
      ]
    },
    {
      "cell_type": "markdown",
      "metadata": {
        "id": "iTv5t7zAltnk"
      },
      "source": [
        "## *len(A)*\n",
        "\n",
        "Tamanho da lista A."
      ]
    },
    {
      "cell_type": "code",
      "execution_count": null,
      "metadata": {
        "id": "dtbuCDSOltnk",
        "colab": {
          "base_uri": "https://localhost:8080/"
        },
        "outputId": "14e70ca9-b8ec-4d80-babe-5a9317753ab2"
      },
      "outputs": [
        {
          "output_type": "execute_result",
          "data": {
            "text/plain": [
              "8"
            ]
          },
          "metadata": {},
          "execution_count": 19
        }
      ],
      "source": [
        "len (Acessorios)"
      ]
    },
    {
      "cell_type": "markdown",
      "metadata": {
        "id": "k7wWCbAmltnl"
      },
      "source": [
        "# 3.3 Seleções em listas"
      ]
    },
    {
      "cell_type": "markdown",
      "metadata": {
        "id": "uF3NmgUaltnl"
      },
      "source": [
        "## *A[ i ]*\n",
        "\n",
        "Retorna o i-ésimo item da lista *A*.\n",
        "\n",
        "<font color=red>**Observação:**</font> Listas têm indexação com origem no zero."
      ]
    },
    {
      "cell_type": "code",
      "execution_count": null,
      "metadata": {
        "id": "f5ct7w1Wltnm",
        "colab": {
          "base_uri": "https://localhost:8080/"
        },
        "outputId": "b135ec40-9943-49c0-8a90-4dc94f0437e1"
      },
      "outputs": [
        {
          "output_type": "execute_result",
          "data": {
            "text/plain": [
              "['Rodas de liga',\n",
              " 'Travas elétricas',\n",
              " 'Piloto automático',\n",
              " 'Bancos de couro',\n",
              " 'Ar condicionado',\n",
              " 'Sensor de estacionamento',\n",
              " 'Sensor crepuscular',\n",
              " 'Sensor de chuva']"
            ]
          },
          "metadata": {},
          "execution_count": 7
        }
      ],
      "source": [
        "Acessorios"
      ]
    },
    {
      "cell_type": "code",
      "execution_count": null,
      "metadata": {
        "id": "-BLG7yifltnn",
        "colab": {
          "base_uri": "https://localhost:8080/",
          "height": 36
        },
        "outputId": "f1a4cc30-3126-4812-8373-bd230a182e4f"
      },
      "outputs": [
        {
          "output_type": "execute_result",
          "data": {
            "text/plain": [
              "'Rodas de liga'"
            ],
            "application/vnd.google.colaboratory.intrinsic+json": {
              "type": "string"
            }
          },
          "metadata": {},
          "execution_count": 8
        }
      ],
      "source": [
        "Acessorios[0]"
      ]
    },
    {
      "cell_type": "code",
      "execution_count": null,
      "metadata": {
        "id": "SoL6PIjJltno",
        "colab": {
          "base_uri": "https://localhost:8080/",
          "height": 36
        },
        "outputId": "2ee5f18c-8d9e-41ab-a18e-1675da9726f1"
      },
      "outputs": [
        {
          "output_type": "execute_result",
          "data": {
            "text/plain": [
              "'Travas elétricas'"
            ],
            "application/vnd.google.colaboratory.intrinsic+json": {
              "type": "string"
            }
          },
          "metadata": {},
          "execution_count": 9
        }
      ],
      "source": [
        "Acessorios[1]"
      ]
    },
    {
      "cell_type": "code",
      "execution_count": null,
      "metadata": {
        "id": "pGMDc5FLltnq",
        "colab": {
          "base_uri": "https://localhost:8080/",
          "height": 36
        },
        "outputId": "dcf6137e-b88c-48a5-97aa-a5abb6ad05e7"
      },
      "outputs": [
        {
          "output_type": "execute_result",
          "data": {
            "text/plain": [
              "'Sensor de chuva'"
            ],
            "application/vnd.google.colaboratory.intrinsic+json": {
              "type": "string"
            }
          },
          "metadata": {},
          "execution_count": 10
        }
      ],
      "source": [
        "Acessorios[-1]"
      ]
    },
    {
      "cell_type": "code",
      "execution_count": null,
      "metadata": {
        "id": "m3AaFe73ltnr",
        "colab": {
          "base_uri": "https://localhost:8080/"
        },
        "outputId": "b19a12fd-273f-488d-ef0d-82ee2d4e6a1b"
      },
      "outputs": [
        {
          "output_type": "execute_result",
          "data": {
            "text/plain": [
              "[['Jetta Variant',\n",
              "  'Motor 4.0 Turbo',\n",
              "  2003,\n",
              "  44410.0,\n",
              "  False,\n",
              "  ['Rodas de liga', 'Travas elétricas', 'Piloto automático'],\n",
              "  88078.64],\n",
              " ['Passat',\n",
              "  'Motor Diesel',\n",
              "  1991,\n",
              "  5712.0,\n",
              "  False,\n",
              "  ['Central multimídia', 'Teto panorâmico', 'Freios ABS'],\n",
              "  106161.94]]"
            ]
          },
          "metadata": {},
          "execution_count": 12
        }
      ],
      "source": [
        "carros"
      ]
    },
    {
      "cell_type": "code",
      "execution_count": null,
      "metadata": {
        "id": "AeDJviqoltns",
        "colab": {
          "base_uri": "https://localhost:8080/"
        },
        "outputId": "49a3f6c9-0750-4a24-bd4c-d811b6e87d04"
      },
      "outputs": [
        {
          "output_type": "execute_result",
          "data": {
            "text/plain": [
              "['Jetta Variant',\n",
              " 'Motor 4.0 Turbo',\n",
              " 2003,\n",
              " 44410.0,\n",
              " False,\n",
              " ['Rodas de liga', 'Travas elétricas', 'Piloto automático'],\n",
              " 88078.64]"
            ]
          },
          "metadata": {},
          "execution_count": 13
        }
      ],
      "source": [
        "carros[0]"
      ]
    },
    {
      "cell_type": "code",
      "execution_count": null,
      "metadata": {
        "id": "KdenG1BZltnt",
        "colab": {
          "base_uri": "https://localhost:8080/",
          "height": 36
        },
        "outputId": "459147d7-2dea-42c2-8d02-02bf92d20f0c"
      },
      "outputs": [
        {
          "output_type": "execute_result",
          "data": {
            "text/plain": [
              "'Jetta Variant'"
            ],
            "application/vnd.google.colaboratory.intrinsic+json": {
              "type": "string"
            }
          },
          "metadata": {},
          "execution_count": 14
        }
      ],
      "source": [
        "carros[0][0]\n"
      ]
    },
    {
      "cell_type": "code",
      "execution_count": null,
      "metadata": {
        "id": "iOjsfrlFltnu",
        "colab": {
          "base_uri": "https://localhost:8080/"
        },
        "outputId": "ffbc903e-cd59-47e7-8403-c7fc4f36b9b7"
      },
      "outputs": [
        {
          "output_type": "execute_result",
          "data": {
            "text/plain": [
              "['Rodas de liga', 'Travas elétricas', 'Piloto automático']"
            ]
          },
          "metadata": {},
          "execution_count": 15
        }
      ],
      "source": [
        "carros[0][-2]\n"
      ]
    },
    {
      "cell_type": "code",
      "execution_count": null,
      "metadata": {
        "id": "6BrON70Zltnu",
        "colab": {
          "base_uri": "https://localhost:8080/",
          "height": 36
        },
        "outputId": "645932b8-2411-426c-a6e6-2b1e2bc8a13c"
      },
      "outputs": [
        {
          "output_type": "execute_result",
          "data": {
            "text/plain": [
              "'Travas elétricas'"
            ],
            "application/vnd.google.colaboratory.intrinsic+json": {
              "type": "string"
            }
          },
          "metadata": {},
          "execution_count": 16
        }
      ],
      "source": [
        "carros[0][-2][1]\n"
      ]
    },
    {
      "cell_type": "markdown",
      "metadata": {
        "id": "9WgwxPIMltnv"
      },
      "source": [
        "## *A[ i : j ]*\n",
        "\n",
        "Recorta a lista *A* do índice i até o j. Neste fatiamento o elemento com índice i é **incluído** e o elemento com índice j **não é incluído** no resultado."
      ]
    },
    {
      "cell_type": "code",
      "execution_count": null,
      "metadata": {
        "id": "bJzL2PMiltnv",
        "colab": {
          "base_uri": "https://localhost:8080/"
        },
        "outputId": "57bb2e9d-0841-4c59-a6ac-831492aef0ed"
      },
      "outputs": [
        {
          "output_type": "execute_result",
          "data": {
            "text/plain": [
              "['Rodas de liga',\n",
              " 'Travas elétricas',\n",
              " 'Piloto automático',\n",
              " 'Bancos de couro',\n",
              " 'Ar condicionado',\n",
              " 'Sensor de estacionamento',\n",
              " 'Sensor crepuscular',\n",
              " 'Sensor de chuva']"
            ]
          },
          "metadata": {},
          "execution_count": 26
        }
      ],
      "source": [
        "Acessorios"
      ]
    },
    {
      "cell_type": "code",
      "execution_count": null,
      "metadata": {
        "id": "sFAlJ4u_ltnw",
        "colab": {
          "base_uri": "https://localhost:8080/"
        },
        "outputId": "f446d256-881f-40ab-b9cf-7462c47978ff"
      },
      "outputs": [
        {
          "output_type": "execute_result",
          "data": {
            "text/plain": [
              "['Piloto automático', 'Bancos de couro', 'Ar condicionado']"
            ]
          },
          "metadata": {},
          "execution_count": 25
        }
      ],
      "source": [
        "Acessorios[2:5]"
      ]
    },
    {
      "cell_type": "code",
      "execution_count": null,
      "metadata": {
        "id": "dFdTBWa9ltnz",
        "colab": {
          "base_uri": "https://localhost:8080/"
        },
        "outputId": "1cb2c0c7-23ff-43a1-99ea-a6594aedf12c"
      },
      "outputs": [
        {
          "output_type": "execute_result",
          "data": {
            "text/plain": [
              "['Piloto automático',\n",
              " 'Bancos de couro',\n",
              " 'Ar condicionado',\n",
              " 'Sensor de estacionamento',\n",
              " 'Sensor crepuscular',\n",
              " 'Sensor de chuva']"
            ]
          },
          "metadata": {},
          "execution_count": 24
        }
      ],
      "source": [
        "Acessorios[2:]"
      ]
    },
    {
      "cell_type": "code",
      "execution_count": null,
      "metadata": {
        "id": "yxxB2-_Dltn0",
        "colab": {
          "base_uri": "https://localhost:8080/"
        },
        "outputId": "0a3b049c-dbc0-4866-fc87-bafec6d0e62c"
      },
      "outputs": [
        {
          "output_type": "execute_result",
          "data": {
            "text/plain": [
              "['Rodas de liga',\n",
              " 'Travas elétricas',\n",
              " 'Piloto automático',\n",
              " 'Bancos de couro',\n",
              " 'Ar condicionado']"
            ]
          },
          "metadata": {},
          "execution_count": 23
        }
      ],
      "source": [
        "Acessorios[:5]"
      ]
    },
    {
      "cell_type": "markdown",
      "metadata": {
        "id": "R-S-LCPGltn0"
      },
      "source": [
        "# 3.4 Métodos de listas\n",
        "\n",
        "https://docs.python.org/3.6/library/stdtypes.html#mutable-sequence-types"
      ]
    },
    {
      "cell_type": "markdown",
      "metadata": {
        "id": "j9s2OyyPltn1"
      },
      "source": [
        "## *A.sort()*\n",
        "\n",
        "Ordena a lista *A*."
      ]
    },
    {
      "cell_type": "code",
      "execution_count": null,
      "metadata": {
        "id": "A2dJGhFsltn1",
        "colab": {
          "base_uri": "https://localhost:8080/"
        },
        "outputId": "3c36b25a-0c01-43eb-b202-3cfebdeeee92"
      },
      "outputs": [
        {
          "output_type": "execute_result",
          "data": {
            "text/plain": [
              "['Rodas de liga',\n",
              " 'Travas elétricas',\n",
              " 'Piloto automático',\n",
              " 'Bancos de couro',\n",
              " 'Ar condicionado',\n",
              " 'Sensor de estacionamento',\n",
              " 'Sensor crepuscular',\n",
              " 'Sensor de chuva']"
            ]
          },
          "metadata": {},
          "execution_count": 27
        }
      ],
      "source": [
        "Acessorios"
      ]
    },
    {
      "cell_type": "code",
      "execution_count": null,
      "metadata": {
        "id": "VDWCHlTcltn2",
        "colab": {
          "base_uri": "https://localhost:8080/"
        },
        "outputId": "9a9fde2c-d77b-4746-e045-ea569512c24b"
      },
      "outputs": [
        {
          "output_type": "execute_result",
          "data": {
            "text/plain": [
              "['Ar condicionado',\n",
              " 'Bancos de couro',\n",
              " 'Piloto automático',\n",
              " 'Rodas de liga',\n",
              " 'Sensor crepuscular',\n",
              " 'Sensor de chuva',\n",
              " 'Sensor de estacionamento',\n",
              " 'Travas elétricas']"
            ]
          },
          "metadata": {},
          "execution_count": 31
        }
      ],
      "source": [
        "Acessorios.sort()\n",
        "Acessorios"
      ]
    },
    {
      "cell_type": "markdown",
      "metadata": {
        "id": "N9Spp7-xltn3"
      },
      "source": [
        "## *A.append(x)*\n",
        "\n",
        "Adiciona o elemnto *x* no final da lista *A*."
      ]
    },
    {
      "cell_type": "code",
      "execution_count": null,
      "metadata": {
        "id": "l7I_U-sRltn4",
        "colab": {
          "base_uri": "https://localhost:8080/"
        },
        "outputId": "b84f42ae-f74d-4c4f-df03-0891fee5314b"
      },
      "outputs": [
        {
          "output_type": "execute_result",
          "data": {
            "text/plain": [
              "['Ar condicionado',\n",
              " 'Bancos de couro',\n",
              " 'Piloto automático',\n",
              " 'Rodas de liga',\n",
              " 'Sensor crepuscular',\n",
              " 'Sensor de chuva',\n",
              " 'Sensor de estacionamento',\n",
              " 'Travas elétricas',\n",
              " '4 X 4 ']"
            ]
          },
          "metadata": {},
          "execution_count": 32
        }
      ],
      "source": [
        "Acessorios.append('4 X 4 ')\n",
        "Acessorios"
      ]
    },
    {
      "cell_type": "markdown",
      "metadata": {
        "id": "eiP3oACPltn6"
      },
      "source": [
        "## *A.pop(i)*\n",
        "\n",
        "Remove e retorna o elemento de índice i da lista *A*.\n",
        "\n",
        "<font color=red>**Observação:**</font> Por *default* o método *pop()* remove e retorna o último elemento de uma lista."
      ]
    },
    {
      "cell_type": "code",
      "execution_count": null,
      "metadata": {
        "id": "BoCKa5Hqltn6",
        "colab": {
          "base_uri": "https://localhost:8080/",
          "height": 36
        },
        "outputId": "f29ac9ae-67e9-4d6f-b0e4-845f5226b4d4"
      },
      "outputs": [
        {
          "output_type": "execute_result",
          "data": {
            "text/plain": [
              "'4 X 4 '"
            ],
            "application/vnd.google.colaboratory.intrinsic+json": {
              "type": "string"
            }
          },
          "metadata": {},
          "execution_count": 33
        }
      ],
      "source": [
        "Acessorios.pop()"
      ]
    },
    {
      "cell_type": "code",
      "execution_count": null,
      "metadata": {
        "id": "GfGX1jw-ltn9",
        "colab": {
          "base_uri": "https://localhost:8080/"
        },
        "outputId": "aa592164-41ec-46fd-a305-1b541e872ed6"
      },
      "outputs": [
        {
          "output_type": "execute_result",
          "data": {
            "text/plain": [
              "['Ar condicionado',\n",
              " 'Bancos de couro',\n",
              " 'Piloto automático',\n",
              " 'Rodas de liga',\n",
              " 'Sensor crepuscular',\n",
              " 'Sensor de chuva',\n",
              " 'Sensor de estacionamento',\n",
              " 'Travas elétricas']"
            ]
          },
          "metadata": {},
          "execution_count": 34
        }
      ],
      "source": [
        "Acessorios"
      ]
    },
    {
      "cell_type": "code",
      "execution_count": null,
      "metadata": {
        "id": "tppe9tqbltn-",
        "colab": {
          "base_uri": "https://localhost:8080/",
          "height": 36
        },
        "outputId": "2a9c6e57-632b-44af-d4d1-fc611a606a3d"
      },
      "outputs": [
        {
          "output_type": "execute_result",
          "data": {
            "text/plain": [
              "'Rodas de liga'"
            ],
            "application/vnd.google.colaboratory.intrinsic+json": {
              "type": "string"
            }
          },
          "metadata": {},
          "execution_count": 35
        }
      ],
      "source": [
        "Acessorios.pop(3)"
      ]
    },
    {
      "cell_type": "code",
      "execution_count": null,
      "metadata": {
        "id": "Ku6ZHTdJltn_",
        "colab": {
          "base_uri": "https://localhost:8080/"
        },
        "outputId": "125a01f6-5ac5-46a7-e578-8b5b6efe9672"
      },
      "outputs": [
        {
          "output_type": "execute_result",
          "data": {
            "text/plain": [
              "['Ar condicionado',\n",
              " 'Bancos de couro',\n",
              " 'Piloto automático',\n",
              " 'Sensor crepuscular',\n",
              " 'Sensor de chuva',\n",
              " 'Sensor de estacionamento',\n",
              " 'Travas elétricas']"
            ]
          },
          "metadata": {},
          "execution_count": 36
        }
      ],
      "source": [
        "Acessorios"
      ]
    },
    {
      "cell_type": "markdown",
      "metadata": {
        "id": "NySIp62hltoC"
      },
      "source": [
        "## *A.copy()*\n",
        "\n",
        "Cria uma cópia da lista *A*.\n",
        "\n",
        "<font color=red>**Observação:**</font> O mesmo resultado pode ser obtido com o seguinte código: \n",
        "```\n",
        "A[:]\n",
        "```"
      ]
    },
    {
      "cell_type": "code",
      "execution_count": null,
      "metadata": {
        "id": "yP9ODygcltoC",
        "colab": {
          "base_uri": "https://localhost:8080/"
        },
        "outputId": "952d770e-28f8-4ef8-c574-a8db8c9547b3"
      },
      "outputs": [
        {
          "output_type": "execute_result",
          "data": {
            "text/plain": [
              "['Ar condicionado',\n",
              " 'Bancos de couro',\n",
              " 'Piloto automático',\n",
              " 'Sensor crepuscular',\n",
              " 'Sensor de chuva',\n",
              " 'Sensor de estacionamento',\n",
              " 'Travas elétricas']"
            ]
          },
          "metadata": {},
          "execution_count": 37
        }
      ],
      "source": [
        "Acessorios_2 = Acessorios\n",
        "Acessorios_2"
      ]
    },
    {
      "cell_type": "code",
      "execution_count": null,
      "metadata": {
        "id": "W3eQdVWkltoF"
      },
      "outputs": [],
      "source": [
        "Acessorios_2.append('4 X 4')"
      ]
    },
    {
      "cell_type": "code",
      "execution_count": null,
      "metadata": {
        "id": "OVbvjjmdltoG",
        "colab": {
          "base_uri": "https://localhost:8080/"
        },
        "outputId": "613796f9-927c-48a3-cf75-7731013b5555"
      },
      "outputs": [
        {
          "output_type": "execute_result",
          "data": {
            "text/plain": [
              "['Ar condicionado',\n",
              " 'Bancos de couro',\n",
              " 'Piloto automático',\n",
              " 'Sensor crepuscular',\n",
              " 'Sensor de chuva',\n",
              " 'Sensor de estacionamento',\n",
              " 'Travas elétricas',\n",
              " '4 X 4']"
            ]
          },
          "metadata": {},
          "execution_count": 39
        }
      ],
      "source": [
        "Acessorios_2"
      ]
    },
    {
      "cell_type": "code",
      "execution_count": null,
      "metadata": {
        "id": "P-MN1JfAltoH",
        "colab": {
          "base_uri": "https://localhost:8080/"
        },
        "outputId": "2613b651-4b2f-423c-fe93-f0843d2abbd3"
      },
      "outputs": [
        {
          "output_type": "execute_result",
          "data": {
            "text/plain": [
              "['Ar condicionado',\n",
              " 'Bancos de couro',\n",
              " 'Piloto automático',\n",
              " 'Sensor crepuscular',\n",
              " 'Sensor de chuva',\n",
              " 'Sensor de estacionamento',\n",
              " 'Travas elétricas',\n",
              " '4 X 4']"
            ]
          },
          "metadata": {},
          "execution_count": 40
        }
      ],
      "source": [
        "Acessorios"
      ]
    },
    {
      "cell_type": "code",
      "execution_count": null,
      "metadata": {
        "id": "ZVQ38eqVltoJ",
        "colab": {
          "base_uri": "https://localhost:8080/",
          "height": 36
        },
        "outputId": "a72f2035-2a1b-4266-c4bb-fe7777415054"
      },
      "outputs": [
        {
          "output_type": "execute_result",
          "data": {
            "text/plain": [
              "'4 X 4'"
            ],
            "application/vnd.google.colaboratory.intrinsic+json": {
              "type": "string"
            }
          },
          "metadata": {},
          "execution_count": 43
        }
      ],
      "source": [
        "Acessorios.pop()"
      ]
    },
    {
      "cell_type": "code",
      "execution_count": null,
      "metadata": {
        "id": "bqPiw5wSltoM",
        "colab": {
          "base_uri": "https://localhost:8080/"
        },
        "outputId": "6a2df5f7-7900-427f-e5fb-4a0083afc34e"
      },
      "outputs": [
        {
          "output_type": "execute_result",
          "data": {
            "text/plain": [
              "['Ar condicionado',\n",
              " 'Bancos de couro',\n",
              " 'Piloto automático',\n",
              " 'Sensor crepuscular',\n",
              " 'Sensor de chuva',\n",
              " 'Sensor de estacionamento',\n",
              " 'Travas elétricas']"
            ]
          },
          "metadata": {},
          "execution_count": 44
        }
      ],
      "source": [
        "Acessorios"
      ]
    },
    {
      "cell_type": "code",
      "execution_count": null,
      "metadata": {
        "id": "Lo9WgzF6ltoP",
        "colab": {
          "base_uri": "https://localhost:8080/"
        },
        "outputId": "da78ad7c-da37-4e18-9605-0a13e9206744"
      },
      "outputs": [
        {
          "output_type": "execute_result",
          "data": {
            "text/plain": [
              "['Ar condicionado',\n",
              " 'Bancos de couro',\n",
              " 'Piloto automático',\n",
              " 'Sensor crepuscular',\n",
              " 'Sensor de chuva',\n",
              " 'Sensor de estacionamento',\n",
              " 'Travas elétricas']"
            ]
          },
          "metadata": {},
          "execution_count": 45
        }
      ],
      "source": [
        "Acessorios_2 = Acessorios.copy()\n",
        "Acessorios_2"
      ]
    },
    {
      "cell_type": "code",
      "execution_count": null,
      "metadata": {
        "id": "r2LPHB34ltoQ",
        "colab": {
          "base_uri": "https://localhost:8080/"
        },
        "outputId": "d2941aab-e043-4b46-e7ec-16f45950be94"
      },
      "outputs": [
        {
          "output_type": "execute_result",
          "data": {
            "text/plain": [
              "['Ar condicionado',\n",
              " 'Bancos de couro',\n",
              " 'Piloto automático',\n",
              " 'Sensor crepuscular',\n",
              " 'Sensor de chuva',\n",
              " 'Sensor de estacionamento',\n",
              " 'Travas elétricas',\n",
              " '4 X 4']"
            ]
          },
          "metadata": {},
          "execution_count": 46
        }
      ],
      "source": [
        "Acessorios_2.append('4 X 4')\n",
        "Acessorios_2\n"
      ]
    },
    {
      "cell_type": "code",
      "execution_count": null,
      "metadata": {
        "id": "UQqUkO8YltoR",
        "colab": {
          "base_uri": "https://localhost:8080/"
        },
        "outputId": "8fdaf1db-3f0c-4a4c-c299-2ccc90649e98"
      },
      "outputs": [
        {
          "output_type": "execute_result",
          "data": {
            "text/plain": [
              "['Ar condicionado',\n",
              " 'Bancos de couro',\n",
              " 'Piloto automático',\n",
              " 'Sensor crepuscular',\n",
              " 'Sensor de chuva',\n",
              " 'Sensor de estacionamento',\n",
              " 'Travas elétricas']"
            ]
          },
          "metadata": {},
          "execution_count": 48
        }
      ],
      "source": [
        "Acessorios"
      ]
    },
    {
      "cell_type": "code",
      "execution_count": null,
      "metadata": {
        "id": "5hC4R-jNltoS",
        "colab": {
          "base_uri": "https://localhost:8080/"
        },
        "outputId": "c135597d-001a-4c0f-bee7-160d1849c7b2"
      },
      "outputs": [
        {
          "output_type": "execute_result",
          "data": {
            "text/plain": [
              "['Ar condicionado',\n",
              " 'Bancos de couro',\n",
              " 'Piloto automático',\n",
              " 'Sensor crepuscular',\n",
              " 'Sensor de chuva',\n",
              " 'Sensor de estacionamento',\n",
              " 'Travas elétricas']"
            ]
          },
          "metadata": {},
          "execution_count": 50
        }
      ],
      "source": [
        "Acessorios_2 = Acessorios [:]\n",
        "Acessorios_2"
      ]
    },
    {
      "cell_type": "markdown",
      "metadata": {
        "id": "8zMZNsg2ltoU"
      },
      "source": [
        "# <font color=green> 4. ESTRUTURAS DE REPETIÇÃO E CONDICIONAIS\n",
        "---"
      ]
    },
    {
      "cell_type": "markdown",
      "metadata": {
        "id": "gxUmCLyJltoU"
      },
      "source": [
        "# 4.1 Instrução *for*\n",
        "\n",
        "#### Formato padrão\n",
        "\n",
        "```\n",
        "for <variável> in <coleção>:\n",
        "    <instruções>\n",
        "```"
      ]
    },
    {
      "cell_type": "markdown",
      "metadata": {
        "id": "Irl5oa0altoU"
      },
      "source": [
        "### Loops com listas"
      ]
    },
    {
      "cell_type": "code",
      "execution_count": null,
      "metadata": {
        "id": "E1LZ5n25ltoV",
        "colab": {
          "base_uri": "https://localhost:8080/"
        },
        "outputId": "6570e92b-cb8d-4d9e-8895-b1f78ed4d105"
      },
      "outputs": [
        {
          "output_type": "execute_result",
          "data": {
            "text/plain": [
              "['Ar condicionado',\n",
              " 'Bancos de couro',\n",
              " 'Piloto automático',\n",
              " 'Sensor crepuscular',\n",
              " 'Sensor de chuva',\n",
              " 'Sensor de estacionamento',\n",
              " 'Travas elétricas']"
            ]
          },
          "metadata": {},
          "execution_count": 51
        }
      ],
      "source": [
        "Acessorios"
      ]
    },
    {
      "cell_type": "code",
      "execution_count": null,
      "metadata": {
        "id": "Z459QqsFltoY",
        "colab": {
          "base_uri": "https://localhost:8080/"
        },
        "outputId": "260cbdc2-ed4e-473b-bffd-69c6863cb07f"
      },
      "outputs": [
        {
          "output_type": "stream",
          "name": "stdout",
          "text": [
            "Ar condicionado\n",
            "Bancos de couro\n",
            "Piloto automático\n",
            "Sensor crepuscular\n",
            "Sensor de chuva\n",
            "Sensor de estacionamento\n",
            "Travas elétricas\n"
          ]
        }
      ],
      "source": [
        "for item in Acessorios:\n",
        "  print(item)"
      ]
    },
    {
      "cell_type": "markdown",
      "metadata": {
        "id": "Gbztj9T4ltoZ"
      },
      "source": [
        "###  List comprehensions\n",
        "\n",
        "https://docs.python.org/3.6/tutorial/datastructures.html#list-comprehensions"
      ]
    },
    {
      "cell_type": "markdown",
      "metadata": {
        "id": "4Y8g0cSHjbof"
      },
      "source": [
        "*range()* -> https://docs.python.org/3.6/library/functions.html#func-range"
      ]
    },
    {
      "cell_type": "code",
      "execution_count": null,
      "metadata": {
        "id": "xDo9TLdYltoZ",
        "colab": {
          "base_uri": "https://localhost:8080/"
        },
        "outputId": "416b2d9d-84ed-4152-f92a-904846a9aecf"
      },
      "outputs": [
        {
          "output_type": "execute_result",
          "data": {
            "text/plain": [
              "range(0, 10)"
            ]
          },
          "metadata": {},
          "execution_count": 53
        }
      ],
      "source": [
        "range(10)"
      ]
    },
    {
      "cell_type": "code",
      "execution_count": null,
      "metadata": {
        "id": "V12p_CQBltoc",
        "colab": {
          "base_uri": "https://localhost:8080/"
        },
        "outputId": "48b4abb9-ceaa-4707-9f91-0eb19462698d"
      },
      "outputs": [
        {
          "output_type": "execute_result",
          "data": {
            "text/plain": [
              "[0, 1, 2, 3, 4, 5, 6, 7, 8, 9]"
            ]
          },
          "metadata": {},
          "execution_count": 54
        }
      ],
      "source": [
        "list(range(10))"
      ]
    },
    {
      "cell_type": "code",
      "execution_count": null,
      "metadata": {
        "id": "d77YH_dVltoh",
        "colab": {
          "base_uri": "https://localhost:8080/"
        },
        "outputId": "b0e05a1b-9452-4eb7-84ea-6d1618faa09f"
      },
      "outputs": [
        {
          "output_type": "stream",
          "name": "stdout",
          "text": [
            "0\n",
            "1\n",
            "2\n",
            "3\n",
            "4\n",
            "5\n",
            "6\n",
            "7\n",
            "8\n",
            "9\n"
          ]
        }
      ],
      "source": [
        "for i in range(10):\n",
        "  print(i)"
      ]
    },
    {
      "cell_type": "code",
      "execution_count": null,
      "metadata": {
        "id": "OOzHHRWHltof",
        "colab": {
          "base_uri": "https://localhost:8080/"
        },
        "outputId": "f264c291-e273-41a2-b744-281c9fbb2379"
      },
      "outputs": [
        {
          "output_type": "stream",
          "name": "stdout",
          "text": [
            "0\n",
            "1\n",
            "4\n",
            "9\n",
            "16\n",
            "25\n",
            "36\n",
            "49\n",
            "64\n",
            "81\n"
          ]
        }
      ],
      "source": [
        "for i in range(10):\n",
        "  print(i **2)"
      ]
    },
    {
      "cell_type": "code",
      "execution_count": null,
      "metadata": {
        "id": "TKynwnxgltog",
        "colab": {
          "base_uri": "https://localhost:8080/"
        },
        "outputId": "ecbdff53-6019-4221-d6eb-ebd3039e8632"
      },
      "outputs": [
        {
          "output_type": "execute_result",
          "data": {
            "text/plain": [
              "[0, 1, 4, 9, 16, 25, 36, 49, 64, 81]"
            ]
          },
          "metadata": {},
          "execution_count": 58
        }
      ],
      "source": [
        "quadrado = []\n",
        "for i in range(10):\n",
        "  quadrado.append(i **2)\n",
        "\n",
        "quadrado"
      ]
    },
    {
      "cell_type": "code",
      "execution_count": null,
      "metadata": {
        "id": "3OmElLO2ltoi",
        "colab": {
          "base_uri": "https://localhost:8080/"
        },
        "outputId": "f6504fa9-7125-4b51-f9b5-c40917ac6b95"
      },
      "outputs": [
        {
          "output_type": "execute_result",
          "data": {
            "text/plain": [
              "[0, 1, 4, 9, 16, 25, 36, 49, 64, 81]"
            ]
          },
          "metadata": {},
          "execution_count": 60
        }
      ],
      "source": [
        "[i **2 for i in range(10)]"
      ]
    },
    {
      "cell_type": "code",
      "execution_count": null,
      "metadata": {
        "id": "HKUkvcDkltok",
        "colab": {
          "base_uri": "https://localhost:8080/"
        },
        "outputId": "8e59317c-b425-4251-9764-72a4d202ebab"
      },
      "outputs": [
        {
          "output_type": "execute_result",
          "data": {
            "text/plain": [
              "[0, 1, 4, 9, 16, 25, 36, 49, 64, 81]"
            ]
          },
          "metadata": {},
          "execution_count": 61
        }
      ],
      "source": [
        "quadrado = [i **2 for i in range(10)]\n",
        "\n",
        "quadrado"
      ]
    },
    {
      "cell_type": "markdown",
      "metadata": {
        "id": "AcAcaKFXltom"
      },
      "source": [
        "# 4.2 Loops aninhados"
      ]
    },
    {
      "cell_type": "code",
      "execution_count": null,
      "metadata": {
        "id": "mjgJCo3dlton",
        "colab": {
          "base_uri": "https://localhost:8080/"
        },
        "outputId": "896adbb5-b294-40de-bbce-053cad7a547f"
      },
      "outputs": [
        {
          "output_type": "execute_result",
          "data": {
            "text/plain": [
              "[['Rodas de liga',\n",
              "  'Travas elétricas',\n",
              "  'Piloto automático',\n",
              "  'Bancos de couro',\n",
              "  'Ar condicionado',\n",
              "  'Sensor de estacionamento',\n",
              "  'Sensor crepuscular',\n",
              "  'Sensor de chuva'],\n",
              " ['Central multimídia',\n",
              "  'Teto panorâmico',\n",
              "  'Freios ABS',\n",
              "  '4 X 4',\n",
              "  'Painel digital',\n",
              "  'Piloto automático',\n",
              "  'Bancos de couro',\n",
              "  'Câmera de estacionamento'],\n",
              " ['Piloto automático',\n",
              "  'Controle de estabilidade',\n",
              "  'Sensor crepuscular',\n",
              "  'Freios ABS',\n",
              "  'Câmbio automático',\n",
              "  'Bancos de couro',\n",
              "  'Central multimídia',\n",
              "  'Vidros elétricos']]"
            ]
          },
          "metadata": {},
          "execution_count": 62
        }
      ],
      "source": [
        "dados = [ \n",
        "    ['Rodas de liga', 'Travas elétricas', 'Piloto automático', 'Bancos de couro', 'Ar condicionado', 'Sensor de estacionamento', 'Sensor crepuscular', 'Sensor de chuva'],\n",
        "    ['Central multimídia', 'Teto panorâmico', 'Freios ABS', '4 X 4', 'Painel digital', 'Piloto automático', 'Bancos de couro', 'Câmera de estacionamento'],\n",
        "    ['Piloto automático', 'Controle de estabilidade', 'Sensor crepuscular', 'Freios ABS', 'Câmbio automático', 'Bancos de couro', 'Central multimídia', 'Vidros elétricos']\n",
        "]\n",
        "dados"
      ]
    },
    {
      "cell_type": "code",
      "execution_count": null,
      "metadata": {
        "id": "pLgxwApVltop",
        "colab": {
          "base_uri": "https://localhost:8080/"
        },
        "outputId": "8255bf50-2508-4209-a623-36b1692ab637"
      },
      "outputs": [
        {
          "output_type": "stream",
          "name": "stdout",
          "text": [
            "['Rodas de liga', 'Travas elétricas', 'Piloto automático', 'Bancos de couro', 'Ar condicionado', 'Sensor de estacionamento', 'Sensor crepuscular', 'Sensor de chuva']\n",
            "['Central multimídia', 'Teto panorâmico', 'Freios ABS', '4 X 4', 'Painel digital', 'Piloto automático', 'Bancos de couro', 'Câmera de estacionamento']\n",
            "['Piloto automático', 'Controle de estabilidade', 'Sensor crepuscular', 'Freios ABS', 'Câmbio automático', 'Bancos de couro', 'Central multimídia', 'Vidros elétricos']\n"
          ]
        }
      ],
      "source": [
        "for lista in dados:\n",
        "  print(lista)"
      ]
    },
    {
      "cell_type": "code",
      "execution_count": null,
      "metadata": {
        "id": "OYnDRvcYltor",
        "colab": {
          "base_uri": "https://localhost:8080/"
        },
        "outputId": "e158af96-2cd9-4eba-ee64-f4adb778abf4"
      },
      "outputs": [
        {
          "output_type": "stream",
          "name": "stdout",
          "text": [
            "Rodas de liga\n",
            "Travas elétricas\n",
            "Piloto automático\n",
            "Bancos de couro\n",
            "Ar condicionado\n",
            "Sensor de estacionamento\n",
            "Sensor crepuscular\n",
            "Sensor de chuva\n",
            "Central multimídia\n",
            "Teto panorâmico\n",
            "Freios ABS\n",
            "4 X 4\n",
            "Painel digital\n",
            "Piloto automático\n",
            "Bancos de couro\n",
            "Câmera de estacionamento\n",
            "Piloto automático\n",
            "Controle de estabilidade\n",
            "Sensor crepuscular\n",
            "Freios ABS\n",
            "Câmbio automático\n",
            "Bancos de couro\n",
            "Central multimídia\n",
            "Vidros elétricos\n"
          ]
        }
      ],
      "source": [
        "for lista in dados:\n",
        "  for item in lista:\n",
        "    print(item)"
      ]
    },
    {
      "cell_type": "code",
      "execution_count": null,
      "metadata": {
        "id": "DbJa5_cJltos",
        "colab": {
          "base_uri": "https://localhost:8080/"
        },
        "outputId": "0c7555f7-1639-4f95-d8f4-8fc257200126"
      },
      "outputs": [
        {
          "output_type": "execute_result",
          "data": {
            "text/plain": [
              "['Rodas de liga',\n",
              " 'Travas elétricas',\n",
              " 'Piloto automático',\n",
              " 'Bancos de couro',\n",
              " 'Ar condicionado',\n",
              " 'Sensor de estacionamento',\n",
              " 'Sensor crepuscular',\n",
              " 'Sensor de chuva',\n",
              " 'Central multimídia',\n",
              " 'Teto panorâmico',\n",
              " 'Freios ABS',\n",
              " '4 X 4',\n",
              " 'Painel digital',\n",
              " 'Piloto automático',\n",
              " 'Bancos de couro',\n",
              " 'Câmera de estacionamento',\n",
              " 'Piloto automático',\n",
              " 'Controle de estabilidade',\n",
              " 'Sensor crepuscular',\n",
              " 'Freios ABS',\n",
              " 'Câmbio automático',\n",
              " 'Bancos de couro',\n",
              " 'Central multimídia',\n",
              " 'Vidros elétricos']"
            ]
          },
          "metadata": {},
          "execution_count": 65
        }
      ],
      "source": [
        "Acessorios = []\n",
        "\n",
        "for lista in dados:\n",
        "  for item in lista:\n",
        "    Acessorios.append(item)\n",
        "\n",
        "Acessorios\n"
      ]
    },
    {
      "cell_type": "markdown",
      "metadata": {
        "id": "RrGAOy1rn1Dj"
      },
      "source": [
        "## *set()*\n",
        "\n",
        "https://docs.python.org/3.6/library/stdtypes.html#types-set\n",
        "\n",
        "https://docs.python.org/3.6/library/functions.html#func-set"
      ]
    },
    {
      "cell_type": "code",
      "execution_count": null,
      "metadata": {
        "id": "CuB-9ClSltos",
        "colab": {
          "base_uri": "https://localhost:8080/"
        },
        "outputId": "dbb04e48-4fa1-4472-800a-b18874b5a19d"
      },
      "outputs": [
        {
          "output_type": "execute_result",
          "data": {
            "text/plain": [
              "['Central multimídia',\n",
              " 'Câmbio automático',\n",
              " 'Painel digital',\n",
              " 'Vidros elétricos',\n",
              " 'Bancos de couro',\n",
              " 'Travas elétricas',\n",
              " 'Piloto automático',\n",
              " 'Sensor de estacionamento',\n",
              " 'Sensor de chuva',\n",
              " 'Rodas de liga',\n",
              " 'Controle de estabilidade',\n",
              " '4 X 4',\n",
              " 'Câmera de estacionamento',\n",
              " 'Freios ABS',\n",
              " 'Teto panorâmico',\n",
              " 'Sensor crepuscular',\n",
              " 'Ar condicionado']"
            ]
          },
          "metadata": {},
          "execution_count": 66
        }
      ],
      "source": [
        "list(set(Acessorios))"
      ]
    },
    {
      "cell_type": "markdown",
      "metadata": {
        "id": "9hHKKABhltot"
      },
      "source": [
        "### List comprehensions"
      ]
    },
    {
      "cell_type": "code",
      "execution_count": null,
      "metadata": {
        "id": "T6t79LTlltot",
        "colab": {
          "base_uri": "https://localhost:8080/"
        },
        "outputId": "44590f79-bf23-4e64-d743-4c54f44283b9"
      },
      "outputs": [
        {
          "output_type": "execute_result",
          "data": {
            "text/plain": [
              "['Rodas de liga',\n",
              " 'Travas elétricas',\n",
              " 'Piloto automático',\n",
              " 'Bancos de couro',\n",
              " 'Ar condicionado',\n",
              " 'Sensor de estacionamento',\n",
              " 'Sensor crepuscular',\n",
              " 'Sensor de chuva',\n",
              " 'Central multimídia',\n",
              " 'Teto panorâmico',\n",
              " 'Freios ABS',\n",
              " '4 X 4',\n",
              " 'Painel digital',\n",
              " 'Piloto automático',\n",
              " 'Bancos de couro',\n",
              " 'Câmera de estacionamento',\n",
              " 'Piloto automático',\n",
              " 'Controle de estabilidade',\n",
              " 'Sensor crepuscular',\n",
              " 'Freios ABS',\n",
              " 'Câmbio automático',\n",
              " 'Bancos de couro',\n",
              " 'Central multimídia',\n",
              " 'Vidros elétricos']"
            ]
          },
          "metadata": {},
          "execution_count": 69
        }
      ],
      "source": [
        "[item for lista in dados for item in lista]"
      ]
    },
    {
      "cell_type": "code",
      "source": [
        "list(set([item for lista in dados for item in lista]))\n"
      ],
      "metadata": {
        "colab": {
          "base_uri": "https://localhost:8080/"
        },
        "id": "vJFdq1G1lkLe",
        "outputId": "3a8e272d-2bbf-47d9-c6d1-045aa0ae93c8"
      },
      "execution_count": null,
      "outputs": [
        {
          "output_type": "execute_result",
          "data": {
            "text/plain": [
              "['Central multimídia',\n",
              " 'Câmbio automático',\n",
              " 'Painel digital',\n",
              " 'Vidros elétricos',\n",
              " 'Bancos de couro',\n",
              " 'Travas elétricas',\n",
              " 'Piloto automático',\n",
              " 'Sensor de estacionamento',\n",
              " 'Sensor de chuva',\n",
              " 'Rodas de liga',\n",
              " 'Controle de estabilidade',\n",
              " '4 X 4',\n",
              " 'Câmera de estacionamento',\n",
              " 'Freios ABS',\n",
              " 'Teto panorâmico',\n",
              " 'Sensor crepuscular',\n",
              " 'Ar condicionado']"
            ]
          },
          "metadata": {},
          "execution_count": 74
        }
      ]
    },
    {
      "cell_type": "markdown",
      "metadata": {
        "id": "cJ4fPdj5ltou"
      },
      "source": [
        "# 4.3 Instrução *if*\n",
        "\n",
        "#### Formato padrão\n",
        "\n",
        "```\n",
        "if <condição>:\n",
        "     <instruções caso a condição seja verdadeira>\n",
        "```"
      ]
    },
    {
      "cell_type": "markdown",
      "metadata": {
        "id": "bqOYDJiWltou"
      },
      "source": [
        "### Operadores de comparação: $==$, $!=$, $>$, $<$, $>=$, $<=$\n",
        "### e\n",
        "### Operadores lógicos: $and$, $or$, $not$"
      ]
    },
    {
      "cell_type": "code",
      "execution_count": null,
      "metadata": {
        "id": "5eY_XPmrltov",
        "colab": {
          "base_uri": "https://localhost:8080/"
        },
        "outputId": "e3e43d23-a8bf-4e48-9217-101760fb1d3b"
      },
      "outputs": [
        {
          "output_type": "execute_result",
          "data": {
            "text/plain": [
              "[['Jetta Variant', 2003, False],\n",
              " ['Passat', 1991, False],\n",
              " ['Crossfox', 1990, False],\n",
              " ['DS5', 2019, True],\n",
              " ['Aston Martin DB4', 2006, False],\n",
              " ['Palio Weekend', 2012, False],\n",
              " ['A5', 2019, True],\n",
              " ['Série 3 Cabrio', 2009, False],\n",
              " ['Dodge Jorney', 2019, False],\n",
              " ['Carens', 2011, False]]"
            ]
          },
          "metadata": {},
          "execution_count": 75
        }
      ],
      "source": [
        "# 1º item da lista - Nome do veículo\n",
        "# 2º item da lista - Ano de fabricação\n",
        "# 3º item da lista - Veículo é zero km?\n",
        "\n",
        "dados = [\n",
        "    ['Jetta Variant', 2003, False],\n",
        "    ['Passat', 1991, False],\n",
        "    ['Crossfox', 1990, False],\n",
        "    ['DS5', 2019, True],\n",
        "    ['Aston Martin DB4', 2006, False],\n",
        "    ['Palio Weekend', 2012, False],\n",
        "    ['A5', 2019, True],\n",
        "    ['Série 3 Cabrio', 2009, False],\n",
        "    ['Dodge Jorney', 2019, False],\n",
        "    ['Carens', 2011, False]\n",
        "]\n",
        "dados"
      ]
    },
    {
      "cell_type": "code",
      "execution_count": null,
      "metadata": {
        "id": "nyb0iDH1ltoy",
        "colab": {
          "base_uri": "https://localhost:8080/"
        },
        "outputId": "5066e12d-9d9d-4756-8021-11667f511b62"
      },
      "outputs": [
        {
          "output_type": "execute_result",
          "data": {
            "text/plain": [
              "[['DS5', 2019, True], ['A5', 2019, True]]"
            ]
          },
          "metadata": {},
          "execution_count": 79
        }
      ],
      "source": [
        "zero_km_Y = []\n",
        "\n",
        "for lista in dados:\n",
        "  if(lista[2] == True):\n",
        "    zero_km_Y.append(lista)\n",
        "\n",
        "zero_km_Y"
      ]
    },
    {
      "cell_type": "code",
      "execution_count": null,
      "metadata": {
        "id": "5MlITJppltoy",
        "colab": {
          "base_uri": "https://localhost:8080/"
        },
        "outputId": "3b55dda6-f2c1-4786-afd3-979e1a7ed565"
      },
      "outputs": [
        {
          "output_type": "execute_result",
          "data": {
            "text/plain": [
              "[['Jetta Variant', 2003, False],\n",
              " ['Passat', 1991, False],\n",
              " ['Crossfox', 1990, False],\n",
              " ['Aston Martin DB4', 2006, False],\n",
              " ['Palio Weekend', 2012, False],\n",
              " ['Série 3 Cabrio', 2009, False],\n",
              " ['Dodge Jorney', 2019, False],\n",
              " ['Carens', 2011, False]]"
            ]
          },
          "metadata": {},
          "execution_count": 80
        }
      ],
      "source": [
        "zero_km_N = []\n",
        "\n",
        "for lista in dados:\n",
        "  if(lista[2] == False):\n",
        "    zero_km_N.append(lista)\n",
        "\n",
        "zero_km_N"
      ]
    },
    {
      "cell_type": "markdown",
      "metadata": {
        "id": "51Js0kXD0aRH"
      },
      "source": [
        "### List comprehensions"
      ]
    },
    {
      "cell_type": "code",
      "execution_count": null,
      "metadata": {
        "id": "Ly4QUX5J0aRI",
        "colab": {
          "base_uri": "https://localhost:8080/"
        },
        "outputId": "e515e373-fe99-4e9b-9926-3670af525bdc"
      },
      "outputs": [
        {
          "output_type": "execute_result",
          "data": {
            "text/plain": [
              "[['Jetta Variant', 2003, False],\n",
              " ['Passat', 1991, False],\n",
              " ['Crossfox', 1990, False],\n",
              " ['Aston Martin DB4', 2006, False],\n",
              " ['Palio Weekend', 2012, False],\n",
              " ['Série 3 Cabrio', 2009, False],\n",
              " ['Dodge Jorney', 2019, False],\n",
              " ['Carens', 2011, False]]"
            ]
          },
          "metadata": {},
          "execution_count": 87
        }
      ],
      "source": [
        "zero_km_N = [lista for lista in dados if(lista[2] == False)]\n",
        "\n",
        "zero_km_N"
      ]
    },
    {
      "cell_type": "markdown",
      "metadata": {
        "id": "CKjrvO5Tltoz"
      },
      "source": [
        "# 4.4 Instruções *if-else* e *if-elif-else*\n",
        "\n",
        "#### Formato padrão\n",
        "\n",
        "```\n",
        "if <condição>:\n",
        "    <instruções caso a condição seja verdadeira>\n",
        "else:\n",
        "    <instruções caso a condição não seja verdadeira>\n",
        "```"
      ]
    },
    {
      "cell_type": "code",
      "execution_count": null,
      "metadata": {
        "id": "K_VORb47ltoz"
      },
      "outputs": [],
      "source": [
        "zero_km_Y , zero_km_N = [] , []\n",
        "\n",
        "for lista in dados:\n",
        "  if(lista[2] == True):\n",
        "    zero_km_Y.append(lista)\n",
        "  else:\n",
        "    zero_km_N.append(lista)\n",
        "\n"
      ]
    },
    {
      "cell_type": "code",
      "execution_count": null,
      "metadata": {
        "id": "vhz5T7jDlto1",
        "colab": {
          "base_uri": "https://localhost:8080/"
        },
        "outputId": "07d723a5-d61d-4dfb-ab50-59a9786d507d"
      },
      "outputs": [
        {
          "output_type": "execute_result",
          "data": {
            "text/plain": [
              "[['DS5', 2019, True], ['A5', 2019, True]]"
            ]
          },
          "metadata": {},
          "execution_count": 89
        }
      ],
      "source": [
        "zero_km_Y"
      ]
    },
    {
      "cell_type": "code",
      "execution_count": null,
      "metadata": {
        "id": "XlvlpPjhlto1",
        "colab": {
          "base_uri": "https://localhost:8080/"
        },
        "outputId": "5854c35a-2226-463e-b9ef-db9a36b32983"
      },
      "outputs": [
        {
          "output_type": "execute_result",
          "data": {
            "text/plain": [
              "[['Jetta Variant', 2003, False],\n",
              " ['Passat', 1991, False],\n",
              " ['Crossfox', 1990, False],\n",
              " ['Aston Martin DB4', 2006, False],\n",
              " ['Palio Weekend', 2012, False],\n",
              " ['Série 3 Cabrio', 2009, False],\n",
              " ['Dodge Jorney', 2019, False],\n",
              " ['Carens', 2011, False]]"
            ]
          },
          "metadata": {},
          "execution_count": 90
        }
      ],
      "source": [
        "zero_km_N"
      ]
    },
    {
      "cell_type": "markdown",
      "metadata": {
        "id": "Z2-8WeN1lto2"
      },
      "source": [
        "#### Formato padrão\n",
        "\n",
        "```\n",
        "if <condição 1>:\n",
        "    <instruções caso a condição 1 seja verdadeira>\n",
        "elif <condição 2>:\n",
        "    <instruções caso a condição 2 seja verdadeira>\n",
        "elif <condição 3>:\n",
        "    <instruções caso a condição 3 seja verdadeira>\n",
        "                        .\n",
        "                        .\n",
        "                        .\n",
        "else:\n",
        "    <instruções caso as condições anteriores não sejam verdadeiras>\n",
        "```"
      ]
    },
    {
      "cell_type": "code",
      "execution_count": null,
      "metadata": {
        "id": "ggrbaB4Tlto2",
        "colab": {
          "base_uri": "https://localhost:8080/"
        },
        "outputId": "8f304cbe-8069-44af-8334-9e711b7587f5"
      },
      "outputs": [
        {
          "output_type": "execute_result",
          "data": {
            "text/plain": [
              "[['Jetta Variant', 2003, False],\n",
              " ['Passat', 1991, False],\n",
              " ['Crossfox', 1990, False],\n",
              " ['DS5', 2019, True],\n",
              " ['Aston Martin DB4', 2006, False],\n",
              " ['Palio Weekend', 2012, False],\n",
              " ['A5', 2019, True],\n",
              " ['Série 3 Cabrio', 2009, False],\n",
              " ['Dodge Jorney', 2019, False],\n",
              " ['Carens', 2011, False]]"
            ]
          },
          "metadata": {},
          "execution_count": 91
        }
      ],
      "source": [
        "dados"
      ]
    },
    {
      "cell_type": "code",
      "execution_count": null,
      "metadata": {
        "id": "KJgRc1F9lto3",
        "colab": {
          "base_uri": "https://localhost:8080/"
        },
        "outputId": "c42c3f5d-d48e-489f-cf2f-11f1e93bb4cb"
      },
      "outputs": [
        {
          "output_type": "stream",
          "name": "stdout",
          "text": [
            "AND\n",
            "(True and True) o resultado é: True\n",
            "(True and False) o resultado é: False\n",
            "(False and True) o resultado é: False\n",
            "(False and False) o resultado é: False\n"
          ]
        }
      ],
      "source": [
        "print('AND')\n",
        "print(f'(True and True) o resultado é: {True and True}')\n",
        "print(f'(True and False) o resultado é: {True and False}')\n",
        "print(f'(False and True) o resultado é: {False and True}')\n",
        "print(f'(False and False) o resultado é: {False and False}')"
      ]
    },
    {
      "cell_type": "code",
      "execution_count": null,
      "metadata": {
        "id": "sb0mSh-o0aRM",
        "colab": {
          "base_uri": "https://localhost:8080/"
        },
        "outputId": "002bf9ad-4571-4493-b4f8-56c122e52a1d"
      },
      "outputs": [
        {
          "output_type": "stream",
          "name": "stdout",
          "text": [
            "OR\n",
            "(True or True) o resultado é: True\n",
            "(True or False) o resultado é: True\n",
            "(False or True) o resultado é: True\n",
            "(False or False) o resultado é: False\n"
          ]
        }
      ],
      "source": [
        "print('OR')\n",
        "print(f'(True or True) o resultado é: {True or True}')\n",
        "print(f'(True or False) o resultado é: {True or False}')\n",
        "print(f'(False or True) o resultado é: {False or True}')\n",
        "print(f'(False or False) o resultado é: {False or False}')"
      ]
    },
    {
      "cell_type": "code",
      "execution_count": null,
      "metadata": {
        "id": "AfNdTPzElto3"
      },
      "outputs": [],
      "source": [
        "A,B,C = [] , [] , []\n",
        "\n",
        "for lista in dados:\n",
        "  if( lista[1] <= 2000):\n",
        "    A.append(lista)\n",
        "  elif( lista[1] > 2000 and lista[1] <= 2010):\n",
        "    B.append(lista)\n",
        "  else:\n",
        "    C.append(lista)"
      ]
    },
    {
      "cell_type": "code",
      "execution_count": null,
      "metadata": {
        "id": "5bN7SuvTlto4",
        "colab": {
          "base_uri": "https://localhost:8080/"
        },
        "outputId": "6e17ddcb-e33c-4671-8ab5-9d23b73075f7"
      },
      "outputs": [
        {
          "output_type": "execute_result",
          "data": {
            "text/plain": [
              "[['Passat', 1991, False], ['Crossfox', 1990, False]]"
            ]
          },
          "metadata": {},
          "execution_count": 99
        }
      ],
      "source": [
        "A"
      ]
    },
    {
      "cell_type": "code",
      "execution_count": null,
      "metadata": {
        "id": "dDEl3Vfglto4",
        "colab": {
          "base_uri": "https://localhost:8080/"
        },
        "outputId": "96070291-7daf-4d6f-d009-92f3cbeebadb"
      },
      "outputs": [
        {
          "output_type": "execute_result",
          "data": {
            "text/plain": [
              "[['Jetta Variant', 2003, False],\n",
              " ['Aston Martin DB4', 2006, False],\n",
              " ['Série 3 Cabrio', 2009, False]]"
            ]
          },
          "metadata": {},
          "execution_count": 100
        }
      ],
      "source": [
        "B"
      ]
    },
    {
      "cell_type": "code",
      "execution_count": null,
      "metadata": {
        "id": "Ot4HLQlelto5",
        "colab": {
          "base_uri": "https://localhost:8080/"
        },
        "outputId": "61caf8ed-13c9-48bc-c4ee-2ec76665ae5c"
      },
      "outputs": [
        {
          "output_type": "execute_result",
          "data": {
            "text/plain": [
              "[['DS5', 2019, True],\n",
              " ['Palio Weekend', 2012, False],\n",
              " ['A5', 2019, True],\n",
              " ['Dodge Jorney', 2019, False],\n",
              " ['Carens', 2011, False]]"
            ]
          },
          "metadata": {},
          "execution_count": 101
        }
      ],
      "source": [
        "C"
      ]
    },
    {
      "cell_type": "code",
      "execution_count": null,
      "metadata": {
        "id": "FN26ZBKJlto5"
      },
      "outputs": [],
      "source": [
        "A,B,C = [] , [] , []\n",
        "\n",
        "for lista in dados:\n",
        "  if( lista[1] <= 2000):\n",
        "    A.append(lista)\n",
        "  elif( 2000 < lista[1] <= 2010):\n",
        "    B.append(lista)\n",
        "  else:\n",
        "    C.append(lista)"
      ]
    },
    {
      "cell_type": "markdown",
      "metadata": {
        "id": "aRfQfubxlto6"
      },
      "source": [
        "# <font color=green> 5. NUMPY BÁSICO\n",
        "---\n",
        "\n",
        "Numpy é a abreviação de Numerical Python e é um dos pacotes mais importantes para processamento numérico em Python. Numpy oferece a base para a maioria dos pacotes de aplicações científicas que utilizem dados numéricos em Python (estruturas de dados e algoritmos). Pode-se destacar os seguintes recursos que o pacote Numpy contém:\n",
        "\n",
        "- Um poderoso objeto array multidimensional;\n",
        "- Funções matemáticas sofisticadas para operações com arrays sem a necessidade de utilização de laços *for*;\n",
        "- Recursos de algebra linear e geração de números aleatórios\n",
        "\n",
        "Além de seus óbvios usos científicos, o pacote NumPy também é muito utilizado em análise de dados como um eficiente contêiner multidimensional de dados genéricos para transporte entre diversos algoritmos e bibliotecas em Python.\n",
        "\n",
        "**Versão:** 1.16.5\n",
        "\n",
        "**Instalação:** https://scipy.org/install.html\n",
        "\n",
        "**Documentação:** https://numpy.org/doc/1.16/"
      ]
    },
    {
      "cell_type": "markdown",
      "metadata": {
        "id": "RtG2-g1ultme"
      },
      "source": [
        "### Pacotes\n",
        "\n",
        "Existem diversos pacotes Python disponíveis para download na internet. Cada pacote tem como objetivo a solução de determinado tipo de problema e para isso são desenvolvidos novos tipos, funções e métodos.\n",
        "\n",
        "Alguns pacotes são bastante utilizados em um contexto de ciência de dados como por exemplo:\n",
        "\n",
        "- Numpy\n",
        "- Pandas\n",
        "- Scikit-learn\n",
        "- Matplotlib\n",
        "\n",
        "Alguns pacotes não são distribuídos com a instalação default do Python. Neste caso devemos instalar os pacotes que necessitamos em nosso sistema para podermos utilizar suas funcionalidades."
      ]
    },
    {
      "cell_type": "markdown",
      "metadata": {
        "id": "b8prsQjmltme"
      },
      "source": [
        "### Importando todo o pacote"
      ]
    },
    {
      "cell_type": "code",
      "execution_count": 1,
      "metadata": {
        "id": "lP0tqXHLltmf"
      },
      "outputs": [],
      "source": [
        "import numpy"
      ]
    },
    {
      "cell_type": "markdown",
      "metadata": {
        "id": "rDa7VB7rpBRo"
      },
      "source": [
        "https://numpy.org/doc/1.16/reference/generated/numpy.arange.html"
      ]
    },
    {
      "cell_type": "code",
      "execution_count": 4,
      "metadata": {
        "id": "Y40UP3K7ltmg",
        "colab": {
          "base_uri": "https://localhost:8080/"
        },
        "outputId": "e647a6f6-e5bc-401d-f35c-a49a9588231a"
      },
      "outputs": [
        {
          "output_type": "execute_result",
          "data": {
            "text/plain": [
              "array([0, 1, 2, 3, 4, 5, 6, 7, 8, 9])"
            ]
          },
          "metadata": {},
          "execution_count": 4
        }
      ],
      "source": [
        "numpy.arange(10)"
      ]
    },
    {
      "cell_type": "markdown",
      "metadata": {
        "id": "84-53f4Lltmh"
      },
      "source": [
        "### Importando todo o pacote e atribuindo um novo nome "
      ]
    },
    {
      "cell_type": "code",
      "execution_count": 2,
      "metadata": {
        "id": "CzESWck7ltmi"
      },
      "outputs": [],
      "source": [
        "import numpy as np"
      ]
    },
    {
      "cell_type": "code",
      "execution_count": 6,
      "metadata": {
        "id": "RC7Dr5Viltmj",
        "colab": {
          "base_uri": "https://localhost:8080/"
        },
        "outputId": "1b6f1e07-9ead-4de7-d258-4aeb8a6e779c"
      },
      "outputs": [
        {
          "output_type": "execute_result",
          "data": {
            "text/plain": [
              "array([0, 1, 2, 3, 4, 5, 6, 7, 8, 9])"
            ]
          },
          "metadata": {},
          "execution_count": 6
        }
      ],
      "source": [
        "np.arange(10)"
      ]
    },
    {
      "cell_type": "markdown",
      "metadata": {
        "id": "WWawttSpltml"
      },
      "source": [
        "### Importando parte do pacote"
      ]
    },
    {
      "cell_type": "code",
      "execution_count": 7,
      "metadata": {
        "id": "8kTeo3Ltltmo"
      },
      "outputs": [],
      "source": [
        "from numpy import arange"
      ]
    },
    {
      "cell_type": "code",
      "execution_count": 8,
      "metadata": {
        "id": "4LPnpiEwltmt",
        "colab": {
          "base_uri": "https://localhost:8080/"
        },
        "outputId": "fd6f9224-1c28-4384-83cc-7b543104bf05"
      },
      "outputs": [
        {
          "output_type": "execute_result",
          "data": {
            "text/plain": [
              "array([0, 1, 2, 3, 4, 5, 6, 7, 8, 9])"
            ]
          },
          "metadata": {},
          "execution_count": 8
        }
      ],
      "source": [
        "arange(10)"
      ]
    },
    {
      "cell_type": "markdown",
      "metadata": {
        "id": "VSmffnCklto6"
      },
      "source": [
        "# 5.1 Criando arrays Numpy"
      ]
    },
    {
      "cell_type": "code",
      "execution_count": 9,
      "metadata": {
        "id": "Wqpin_-Plto8"
      },
      "outputs": [],
      "source": [
        "import numpy as np"
      ]
    },
    {
      "cell_type": "markdown",
      "metadata": {
        "id": "ock4Ku-Ulto8"
      },
      "source": [
        "### A partir de listas\n",
        "\n",
        "https://numpy.org/doc/1.16/user/basics.creation.html"
      ]
    },
    {
      "cell_type": "code",
      "execution_count": 10,
      "metadata": {
        "id": "82H-09CQlto9"
      },
      "outputs": [],
      "source": [
        "km = np.array([1000, 2300, 4987, 1500])"
      ]
    },
    {
      "cell_type": "code",
      "execution_count": 11,
      "metadata": {
        "id": "8VYE3JSYlto9",
        "colab": {
          "base_uri": "https://localhost:8080/"
        },
        "outputId": "d53860b8-de26-4e68-e2f9-d9d41eb6ee4f"
      },
      "outputs": [
        {
          "output_type": "execute_result",
          "data": {
            "text/plain": [
              "array([1000, 2300, 4987, 1500])"
            ]
          },
          "metadata": {},
          "execution_count": 11
        }
      ],
      "source": [
        "km"
      ]
    },
    {
      "cell_type": "code",
      "execution_count": 13,
      "metadata": {
        "id": "OBsa5Cfplto-",
        "colab": {
          "base_uri": "https://localhost:8080/"
        },
        "outputId": "515ced08-fc20-4fec-a599-afc3ec61788e"
      },
      "outputs": [
        {
          "output_type": "execute_result",
          "data": {
            "text/plain": [
              "numpy.ndarray"
            ]
          },
          "metadata": {},
          "execution_count": 13
        }
      ],
      "source": [
        "type(km)"
      ]
    },
    {
      "cell_type": "markdown",
      "metadata": {
        "id": "RfQ3jJSAlto-"
      },
      "source": [
        "https://numpy.org/doc/1.16/user/basics.types.html"
      ]
    },
    {
      "cell_type": "code",
      "execution_count": 14,
      "metadata": {
        "id": "6yLpkJcAlto-",
        "colab": {
          "base_uri": "https://localhost:8080/"
        },
        "outputId": "4be43f6e-3952-4015-8f92-764818f1f2e6"
      },
      "outputs": [
        {
          "output_type": "execute_result",
          "data": {
            "text/plain": [
              "dtype('int64')"
            ]
          },
          "metadata": {},
          "execution_count": 14
        }
      ],
      "source": [
        "km.dtype"
      ]
    },
    {
      "cell_type": "markdown",
      "metadata": {
        "id": "1pFx86QPlto_"
      },
      "source": [
        "### A partir de dados externos\n",
        "\n",
        "https://numpy.org/doc/1.16/reference/generated/numpy.loadtxt.html"
      ]
    },
    {
      "cell_type": "code",
      "execution_count": 15,
      "metadata": {
        "id": "26pQLNgrlto_"
      },
      "outputs": [],
      "source": [
        "km = np.loadtxt(fname = 'carros-km.txt',dtype = int)"
      ]
    },
    {
      "cell_type": "code",
      "execution_count": 16,
      "metadata": {
        "id": "FoP42bdpltpA",
        "scrolled": true,
        "colab": {
          "base_uri": "https://localhost:8080/"
        },
        "outputId": "8b390266-af2e-4159-9222-a510aad76245"
      },
      "outputs": [
        {
          "output_type": "execute_result",
          "data": {
            "text/plain": [
              "array([ 44410,   5712,  37123,      0,  25757,  10728,      0,  77599,\n",
              "        99197,  37978,  12859,   8052,  89773,      0,  41457, 115607,\n",
              "        46449,      0,  37086,  15173, 101193,      0,  98079, 102959,\n",
              "            0,      0,   5795,      0,  58848,  94381,  30163,  53332,\n",
              "        17720,  33808,  90684,  43975,      0,      0,   5526,      0,\n",
              "        93415,  40762,      0,  86302,      0,   9755,  69945,   2395,\n",
              "            0,  80349,  85554,  50496,  67716,  93947,  35345,  81007,\n",
              "       119513,      0,      0,      0,      0,      0, 118895,  48509,\n",
              "       100912,  95649,      0,  90495,      0,  29132,  23802,  84992,\n",
              "        54395,  26731,  44329, 118236, 113808,    610,      0,      0,\n",
              "        12887,  79607,  90924,  42733,      0,      0, 117714, 113885,\n",
              "            0,  30511,  74867, 119760,   8356,  64247,  88661,   4539,\n",
              "       110116,  33215,  92001,      0,  81708,  70641,      0,  91277,\n",
              "        26544,  52596,  47503,  89056,  28834, 110564,  56638,  17357,\n",
              "        74015,  15196,      0,  10821,      0,      0,   9595,  99052,\n",
              "        52389, 119945,  96005,  31639,      0,  80187,      0,  58212,\n",
              "        61672,  32017,      0,  56944,      0,  86519,   4821, 101025,\n",
              "        30705,      0,  32555, 103389,      0,  55289,      0,      0,\n",
              "       115930,  66437,  96800,  14237,  19896, 113045, 114942,   3173,\n",
              "        83611,  25356,  88634,   2314,   2627,  52034,      0,      0,\n",
              "        79577, 108201,  76453,  57683,  96610, 109001,  26212,  45971,\n",
              "        49182,  49907,  38620,  60996,  73914, 107392,   9146,      0,\n",
              "        17924,      0, 116949,  20476,  52804,   8849,  91724,  32056,\n",
              "        74886,      0,      0,  52189,  83559,      0,  20328,      0,\n",
              "        75577,  33659, 104341,  25510,  18965,  87161,   6652,  55738,\n",
              "            0,      0,      0,  64320,      0,  68678,  71697,      0,\n",
              "        34783,  33772,  85127,  13606,  35647,  95128,  14046,  41194,\n",
              "            0,  96100, 103900,  43814,  24638,      0, 110966,  15987,\n",
              "        53369,  10077,  71544,    107,   8394,  41498, 116002, 100858,\n",
              "        67475,   8497,   4420,      0,  58537,      0,      0, 112016,\n",
              "        91840, 112787,      0,      0,   9293,      0,  55083,  48796,\n",
              "            0,  89685,  85384,  98108,  71280,  27505,  29981,  52637,\n",
              "         7685,  50188])"
            ]
          },
          "metadata": {},
          "execution_count": 16
        }
      ],
      "source": [
        "km"
      ]
    },
    {
      "cell_type": "code",
      "execution_count": 17,
      "metadata": {
        "id": "MNPjZJbYltpA",
        "colab": {
          "base_uri": "https://localhost:8080/"
        },
        "outputId": "5c075bea-4c68-4f34-9404-e7d815d1f133"
      },
      "outputs": [
        {
          "output_type": "execute_result",
          "data": {
            "text/plain": [
              "dtype('int64')"
            ]
          },
          "metadata": {},
          "execution_count": 17
        }
      ],
      "source": [
        "km.dtype"
      ]
    },
    {
      "cell_type": "markdown",
      "metadata": {
        "id": "_wnTg0wJltpB"
      },
      "source": [
        "### Arrays com duas dimensões"
      ]
    },
    {
      "cell_type": "code",
      "execution_count": 18,
      "metadata": {
        "id": "Gt1dL27GltpB",
        "scrolled": true,
        "colab": {
          "base_uri": "https://localhost:8080/"
        },
        "outputId": "3488f452-e142-45a8-e58b-2e6996160e19"
      },
      "outputs": [
        {
          "output_type": "execute_result",
          "data": {
            "text/plain": [
              "[['Rodas de liga',\n",
              "  'Travas elétricas',\n",
              "  'Piloto automático',\n",
              "  'Bancos de couro',\n",
              "  'Ar condicionado',\n",
              "  'Sensor de estacionamento',\n",
              "  'Sensor crepuscular',\n",
              "  'Sensor de chuva'],\n",
              " ['Central multimídia',\n",
              "  'Teto panorâmico',\n",
              "  'Freios ABS',\n",
              "  '4 X 4',\n",
              "  'Painel digital',\n",
              "  'Piloto automático',\n",
              "  'Bancos de couro',\n",
              "  'Câmera de estacionamento'],\n",
              " ['Piloto automático',\n",
              "  'Controle de estabilidade',\n",
              "  'Sensor crepuscular',\n",
              "  'Freios ABS',\n",
              "  'Câmbio automático',\n",
              "  'Bancos de couro',\n",
              "  'Central multimídia',\n",
              "  'Vidros elétricos']]"
            ]
          },
          "metadata": {},
          "execution_count": 18
        }
      ],
      "source": [
        "dados = [ \n",
        "    ['Rodas de liga', 'Travas elétricas', 'Piloto automático', 'Bancos de couro', 'Ar condicionado', 'Sensor de estacionamento', 'Sensor crepuscular', 'Sensor de chuva'],\n",
        "    ['Central multimídia', 'Teto panorâmico', 'Freios ABS', '4 X 4', 'Painel digital', 'Piloto automático', 'Bancos de couro', 'Câmera de estacionamento'],\n",
        "    ['Piloto automático', 'Controle de estabilidade', 'Sensor crepuscular', 'Freios ABS', 'Câmbio automático', 'Bancos de couro', 'Central multimídia', 'Vidros elétricos']\n",
        "]\n",
        "dados"
      ]
    },
    {
      "cell_type": "code",
      "execution_count": 19,
      "metadata": {
        "id": "IlbYeZPkltpC"
      },
      "outputs": [],
      "source": [
        "Acessorios = np.array(dados)"
      ]
    },
    {
      "cell_type": "code",
      "execution_count": 20,
      "metadata": {
        "id": "FgjmWozgltpD",
        "scrolled": true,
        "colab": {
          "base_uri": "https://localhost:8080/"
        },
        "outputId": "ebc150ed-6485-4ce6-da7b-20746739b780"
      },
      "outputs": [
        {
          "output_type": "execute_result",
          "data": {
            "text/plain": [
              "array([['Rodas de liga', 'Travas elétricas', 'Piloto automático',\n",
              "        'Bancos de couro', 'Ar condicionado', 'Sensor de estacionamento',\n",
              "        'Sensor crepuscular', 'Sensor de chuva'],\n",
              "       ['Central multimídia', 'Teto panorâmico', 'Freios ABS', '4 X 4',\n",
              "        'Painel digital', 'Piloto automático', 'Bancos de couro',\n",
              "        'Câmera de estacionamento'],\n",
              "       ['Piloto automático', 'Controle de estabilidade',\n",
              "        'Sensor crepuscular', 'Freios ABS', 'Câmbio automático',\n",
              "        'Bancos de couro', 'Central multimídia', 'Vidros elétricos']],\n",
              "      dtype='<U24')"
            ]
          },
          "metadata": {},
          "execution_count": 20
        }
      ],
      "source": [
        "Acessorios"
      ]
    },
    {
      "cell_type": "code",
      "execution_count": 21,
      "metadata": {
        "id": "TDM9HskUltpD",
        "colab": {
          "base_uri": "https://localhost:8080/"
        },
        "outputId": "21125b9d-7b06-4a95-a552-8a8135e0197f"
      },
      "outputs": [
        {
          "output_type": "execute_result",
          "data": {
            "text/plain": [
              "(258,)"
            ]
          },
          "metadata": {},
          "execution_count": 21
        }
      ],
      "source": [
        "km.shape"
      ]
    },
    {
      "cell_type": "code",
      "execution_count": 22,
      "metadata": {
        "id": "bBmnzpF5ltpE",
        "colab": {
          "base_uri": "https://localhost:8080/"
        },
        "outputId": "0ee62ccf-6035-4878-f0bc-5b96a545e577"
      },
      "outputs": [
        {
          "output_type": "execute_result",
          "data": {
            "text/plain": [
              "(3, 8)"
            ]
          },
          "metadata": {},
          "execution_count": 22
        }
      ],
      "source": [
        "Acessorios.shape"
      ]
    },
    {
      "cell_type": "markdown",
      "metadata": {
        "id": "cPbkST9pltpE"
      },
      "source": [
        "### Comparando desempenho com listas"
      ]
    },
    {
      "cell_type": "code",
      "execution_count": 23,
      "metadata": {
        "id": "tTPC-G4vltpE"
      },
      "outputs": [],
      "source": [
        "np_array = np.arange(1000000)"
      ]
    },
    {
      "cell_type": "code",
      "execution_count": 24,
      "metadata": {
        "id": "PIC-ndg9ltpF"
      },
      "outputs": [],
      "source": [
        "py_list = list (range(1000000))"
      ]
    },
    {
      "cell_type": "code",
      "execution_count": 25,
      "metadata": {
        "id": "vXy57nk2ltpF",
        "colab": {
          "base_uri": "https://localhost:8080/"
        },
        "outputId": "6cf34c27-f107-4db3-f94e-34a9b2965ac4"
      },
      "outputs": [
        {
          "output_type": "stream",
          "name": "stdout",
          "text": [
            "CPU times: user 64.3 ms, sys: 0 ns, total: 64.3 ms\n",
            "Wall time: 65.9 ms\n"
          ]
        }
      ],
      "source": [
        "%time for _ in range(100): np_array *= 2"
      ]
    },
    {
      "cell_type": "code",
      "execution_count": 26,
      "metadata": {
        "id": "I94lVgCRltpG",
        "colab": {
          "base_uri": "https://localhost:8080/"
        },
        "outputId": "d358ca34-5601-4079-a32d-d8ebcaf3c98a"
      },
      "outputs": [
        {
          "output_type": "stream",
          "name": "stdout",
          "text": [
            "CPU times: user 9.14 s, sys: 3.11 s, total: 12.2 s\n",
            "Wall time: 13.3 s\n"
          ]
        }
      ],
      "source": [
        "%time for _ in range(100): py_list = [x*2 for x in py_list]"
      ]
    },
    {
      "cell_type": "markdown",
      "metadata": {
        "id": "ul4MuKyTltpG"
      },
      "source": [
        "# 5.2 Operações aritméticas com arrays Numpy"
      ]
    },
    {
      "cell_type": "markdown",
      "metadata": {
        "id": "QwnxO_rYltpH"
      },
      "source": [
        "### Operações entre arrays e constantes"
      ]
    },
    {
      "cell_type": "code",
      "execution_count": 27,
      "metadata": {
        "id": "63KVHPK0ltpH"
      },
      "outputs": [],
      "source": [
        "km = [44410., 5712., 37123., 0., 25757.]\n",
        "anos = [2003, 1991, 1990, 2019, 2006]"
      ]
    },
    {
      "cell_type": "code",
      "execution_count": 32,
      "metadata": {
        "id": "AryIZaBIltpH"
      },
      "outputs": [],
      "source": [
        "#idade = 2019 - anos"
      ]
    },
    {
      "cell_type": "code",
      "execution_count": 4,
      "metadata": {
        "id": "s8GvEk4HltpI"
      },
      "outputs": [],
      "source": [
        "km = np.array([44410., 5712., 37123., 0., 25757.])\n",
        "anos = np.array([2003, 1991, 1990, 2019, 2006])"
      ]
    },
    {
      "cell_type": "code",
      "execution_count": 30,
      "metadata": {
        "id": "aUnYV7OultpI"
      },
      "outputs": [],
      "source": [
        "idade = 2019 - anos"
      ]
    },
    {
      "cell_type": "code",
      "execution_count": 31,
      "metadata": {
        "id": "vg5yZ9IpltpJ",
        "colab": {
          "base_uri": "https://localhost:8080/"
        },
        "outputId": "71c1b990-00be-47b9-a3f5-1d86ae06a223"
      },
      "outputs": [
        {
          "output_type": "execute_result",
          "data": {
            "text/plain": [
              "array([16, 28, 29,  0, 13])"
            ]
          },
          "metadata": {},
          "execution_count": 31
        }
      ],
      "source": [
        "idade"
      ]
    },
    {
      "cell_type": "markdown",
      "metadata": {
        "id": "qn1PUsM9ltpJ"
      },
      "source": [
        "### Operações entre arrays"
      ]
    },
    {
      "cell_type": "code",
      "execution_count": 33,
      "metadata": {
        "id": "gU_d5aZkltpJ",
        "colab": {
          "base_uri": "https://localhost:8080/"
        },
        "outputId": "48327f98-7d92-4477-ddc1-a3131afe4d83"
      },
      "outputs": [
        {
          "output_type": "stream",
          "name": "stderr",
          "text": [
            "<ipython-input-33-502b13b90eb3>:1: RuntimeWarning: invalid value encountered in true_divide\n",
            "  km_media = km / idade\n"
          ]
        }
      ],
      "source": [
        "km_media = km / idade"
      ]
    },
    {
      "cell_type": "code",
      "execution_count": 34,
      "metadata": {
        "id": "U9DXntUEltpK",
        "colab": {
          "base_uri": "https://localhost:8080/"
        },
        "outputId": "5dc09f1a-d7f0-43e6-840e-af981085010a"
      },
      "outputs": [
        {
          "output_type": "execute_result",
          "data": {
            "text/plain": [
              "array([2775.625     ,  204.        , 1280.10344828,           nan,\n",
              "       1981.30769231])"
            ]
          },
          "metadata": {},
          "execution_count": 34
        }
      ],
      "source": [
        "km_media"
      ]
    },
    {
      "cell_type": "code",
      "execution_count": 35,
      "metadata": {
        "id": "n0rPxgY1ltpL",
        "colab": {
          "base_uri": "https://localhost:8080/"
        },
        "outputId": "fbf90642-ab19-4adf-ac43-e069f7382199"
      },
      "outputs": [
        {
          "output_type": "execute_result",
          "data": {
            "text/plain": [
              "204.0"
            ]
          },
          "metadata": {},
          "execution_count": 35
        }
      ],
      "source": [
        "5712 / (2019-1991)"
      ]
    },
    {
      "cell_type": "markdown",
      "metadata": {
        "id": "o4-gsGICltpN"
      },
      "source": [
        "### Operações com arrays de duas dimensões"
      ]
    },
    {
      "cell_type": "code",
      "execution_count": 5,
      "metadata": {
        "id": "VT71Pbb3ltpN"
      },
      "outputs": [],
      "source": [
        "dados = np.array([km, anos])"
      ]
    },
    {
      "cell_type": "code",
      "execution_count": 37,
      "metadata": {
        "id": "bgDe00q8ltpO",
        "colab": {
          "base_uri": "https://localhost:8080/"
        },
        "outputId": "ae13e787-0fb8-447e-ae65-970cf8049d9e"
      },
      "outputs": [
        {
          "output_type": "execute_result",
          "data": {
            "text/plain": [
              "array([[44410.,  5712., 37123.,     0., 25757.],\n",
              "       [ 2003.,  1991.,  1990.,  2019.,  2006.]])"
            ]
          },
          "metadata": {},
          "execution_count": 37
        }
      ],
      "source": [
        "dados"
      ]
    },
    {
      "cell_type": "code",
      "execution_count": 38,
      "metadata": {
        "id": "jIQU2ugKltpP",
        "colab": {
          "base_uri": "https://localhost:8080/"
        },
        "outputId": "6f5843c0-5bf5-4e8c-fdcd-8185d7a741c8"
      },
      "outputs": [
        {
          "output_type": "execute_result",
          "data": {
            "text/plain": [
              "(2, 5)"
            ]
          },
          "metadata": {},
          "execution_count": 38
        }
      ],
      "source": [
        "dados.shape"
      ]
    },
    {
      "cell_type": "markdown",
      "metadata": {
        "id": "dsgz-E5ZltpP"
      },
      "source": [
        "![1410-img01.png](https://caelum-online-public.s3.amazonaws.com/1410-pythondatascience/01/1410-img01.png)"
      ]
    },
    {
      "cell_type": "code",
      "execution_count": 39,
      "metadata": {
        "id": "imANn6HultpQ",
        "colab": {
          "base_uri": "https://localhost:8080/"
        },
        "outputId": "da30f8c1-d5fb-4e50-9459-26cd2d972f65"
      },
      "outputs": [
        {
          "output_type": "execute_result",
          "data": {
            "text/plain": [
              "array([44410.,  5712., 37123.,     0., 25757.])"
            ]
          },
          "metadata": {},
          "execution_count": 39
        }
      ],
      "source": [
        "dados[0]"
      ]
    },
    {
      "cell_type": "code",
      "execution_count": 40,
      "metadata": {
        "id": "Nkp9ljkvltpQ",
        "colab": {
          "base_uri": "https://localhost:8080/"
        },
        "outputId": "543a1b77-7573-442d-f9e1-4010759d6d07"
      },
      "outputs": [
        {
          "output_type": "execute_result",
          "data": {
            "text/plain": [
              "array([2003., 1991., 1990., 2019., 2006.])"
            ]
          },
          "metadata": {},
          "execution_count": 40
        }
      ],
      "source": [
        "dados[1]"
      ]
    },
    {
      "cell_type": "code",
      "execution_count": 49,
      "metadata": {
        "id": "njJ2z3HJltpR",
        "colab": {
          "base_uri": "https://localhost:8080/"
        },
        "outputId": "bb9c9f54-0689-4236-aefe-c0cd2fbbda82"
      },
      "outputs": [
        {
          "output_type": "stream",
          "name": "stderr",
          "text": [
            "<ipython-input-49-21763fb39ad1>:1: RuntimeWarning: invalid value encountered in true_divide\n",
            "  km_media = dados [0] / (2019 - dados[1])\n"
          ]
        }
      ],
      "source": [
        "km_media = dados [0] / (2019 - dados[1])"
      ]
    },
    {
      "cell_type": "markdown",
      "metadata": {
        "id": "4CAwtS0-ltpR"
      },
      "source": [
        "# 5.3 Seleções com arrays Numpy"
      ]
    },
    {
      "cell_type": "markdown",
      "metadata": {
        "id": "QDAT1vODltpS"
      },
      "source": [
        "![1410-img01.png](https://caelum-online-public.s3.amazonaws.com/1410-pythondatascience/01/1410-img01.png)"
      ]
    },
    {
      "cell_type": "code",
      "execution_count": 53,
      "metadata": {
        "id": "nZpPGS2TltpS",
        "colab": {
          "base_uri": "https://localhost:8080/"
        },
        "outputId": "c2ccf5ff-a7f5-48a6-a67e-4c6556933a2d"
      },
      "outputs": [
        {
          "output_type": "execute_result",
          "data": {
            "text/plain": [
              "array([[44410.,  5712., 37123.,     0., 25757.],\n",
              "       [ 2003.,  1991.,  1990.,  2019.,  2006.]])"
            ]
          },
          "metadata": {},
          "execution_count": 53
        }
      ],
      "source": [
        "dados"
      ]
    },
    {
      "cell_type": "markdown",
      "metadata": {
        "id": "b--BIPcOltpT"
      },
      "source": [
        "![1410-img02.png](https://caelum-online-public.s3.amazonaws.com/1410-pythondatascience/01/1410-img02.png)"
      ]
    },
    {
      "cell_type": "markdown",
      "metadata": {
        "id": "86-hOHa7ltpT"
      },
      "source": [
        "### Indexação \n",
        "\n",
        "<font color=red>**Observação:**</font> A indexação tem origem no zero."
      ]
    },
    {
      "cell_type": "code",
      "execution_count": 54,
      "metadata": {
        "id": "mr0Q_X0JltpT",
        "colab": {
          "base_uri": "https://localhost:8080/"
        },
        "outputId": "7338dff8-d7ae-4dcd-e20e-0fe4277c5c5d"
      },
      "outputs": [
        {
          "output_type": "execute_result",
          "data": {
            "text/plain": [
              "array([0, 1, 2, 3, 4, 5, 6, 7, 8, 9])"
            ]
          },
          "metadata": {},
          "execution_count": 54
        }
      ],
      "source": [
        "contador = np.arange(10)\n",
        "contador"
      ]
    },
    {
      "cell_type": "code",
      "execution_count": 55,
      "metadata": {
        "id": "VxiR_IgdltpU",
        "colab": {
          "base_uri": "https://localhost:8080/"
        },
        "outputId": "0434bb5f-267d-446f-baba-f5053b58d635"
      },
      "outputs": [
        {
          "output_type": "execute_result",
          "data": {
            "text/plain": [
              "0"
            ]
          },
          "metadata": {},
          "execution_count": 55
        }
      ],
      "source": [
        "contador[0]"
      ]
    },
    {
      "cell_type": "code",
      "execution_count": 56,
      "metadata": {
        "id": "xGDomIyAltpU",
        "colab": {
          "base_uri": "https://localhost:8080/"
        },
        "outputId": "09ebd36a-ae1f-405a-cd13-f792e6dc6dac"
      },
      "outputs": [
        {
          "output_type": "execute_result",
          "data": {
            "text/plain": [
              "5"
            ]
          },
          "metadata": {},
          "execution_count": 56
        }
      ],
      "source": [
        "item = 6\n",
        "index = item-1\n",
        "contador[index]"
      ]
    },
    {
      "cell_type": "code",
      "execution_count": 57,
      "metadata": {
        "id": "QEO5Za5PltpV",
        "colab": {
          "base_uri": "https://localhost:8080/"
        },
        "outputId": "b6c7cc83-5010-4d8c-8c52-4af753c319cf"
      },
      "outputs": [
        {
          "output_type": "execute_result",
          "data": {
            "text/plain": [
              "9"
            ]
          },
          "metadata": {},
          "execution_count": 57
        }
      ],
      "source": [
        "contador[-1]"
      ]
    },
    {
      "cell_type": "code",
      "execution_count": 58,
      "metadata": {
        "id": "rvkeMK8KltpV",
        "colab": {
          "base_uri": "https://localhost:8080/"
        },
        "outputId": "1be5612d-1862-4a95-a151-9fc1017628de"
      },
      "outputs": [
        {
          "output_type": "execute_result",
          "data": {
            "text/plain": [
              "array([44410.,  5712., 37123.,     0., 25757.])"
            ]
          },
          "metadata": {},
          "execution_count": 58
        }
      ],
      "source": [
        "dados[0]"
      ]
    },
    {
      "cell_type": "code",
      "execution_count": 59,
      "metadata": {
        "id": "X8c-lJRJltpW",
        "colab": {
          "base_uri": "https://localhost:8080/"
        },
        "outputId": "ed253033-5cd5-4f5d-d2a5-349fad894bed"
      },
      "outputs": [
        {
          "output_type": "execute_result",
          "data": {
            "text/plain": [
              "array([2003., 1991., 1990., 2019., 2006.])"
            ]
          },
          "metadata": {},
          "execution_count": 59
        }
      ],
      "source": [
        "dados[1]"
      ]
    },
    {
      "cell_type": "markdown",
      "metadata": {
        "id": "fCWUSI1zltpZ"
      },
      "source": [
        "## <font color=green>**Dica:**</font>\n",
        "### *ndarray[ linha ][ coluna ]* ou *ndarray[ linha, coluna ]*"
      ]
    },
    {
      "cell_type": "code",
      "execution_count": 60,
      "metadata": {
        "id": "Nxc3uY-ZltpZ",
        "colab": {
          "base_uri": "https://localhost:8080/"
        },
        "outputId": "0a5193b7-77fa-4ea0-ba0d-82a33eb953a7"
      },
      "outputs": [
        {
          "output_type": "execute_result",
          "data": {
            "text/plain": [
              "1990.0"
            ]
          },
          "metadata": {},
          "execution_count": 60
        }
      ],
      "source": [
        "dados[1][2]"
      ]
    },
    {
      "cell_type": "code",
      "execution_count": 63,
      "metadata": {
        "id": "xp8ByjualtpZ",
        "colab": {
          "base_uri": "https://localhost:8080/"
        },
        "outputId": "318a0eee-fc6e-42c9-a6a2-23019241d284"
      },
      "outputs": [
        {
          "output_type": "execute_result",
          "data": {
            "text/plain": [
              "1990.0"
            ]
          },
          "metadata": {},
          "execution_count": 63
        }
      ],
      "source": [
        "dados[1, 2]"
      ]
    },
    {
      "cell_type": "markdown",
      "metadata": {
        "id": "7osmTUC4ltpa"
      },
      "source": [
        " ### Fatiamentos\n",
        " \n",
        "A sintaxe para realizar fatiamento em um array Numpy é $i : j : k$ onde $i$ é o índice inicial, $j$ é o índice de parada, e $k$ é o indicador de passo ($k\\neq0$)\n",
        " \n",
        "<font color=red>**Observação:**</font> Nos fatiamentos (*slices*) o item com índice i é **incluído** e o item com índice j **não é incluído** no resultado."
      ]
    },
    {
      "cell_type": "markdown",
      "metadata": {
        "id": "HEx4TbNlltpa"
      },
      "source": [
        "![1410-img01.png](https://caelum-online-public.s3.amazonaws.com/1410-pythondatascience/01/1410-img01.png)"
      ]
    },
    {
      "cell_type": "code",
      "execution_count": 64,
      "metadata": {
        "id": "tlaD1SENltpb",
        "colab": {
          "base_uri": "https://localhost:8080/"
        },
        "outputId": "7a8b28d0-122f-4805-b306-eff30cd8782b"
      },
      "outputs": [
        {
          "output_type": "execute_result",
          "data": {
            "text/plain": [
              "array([0, 1, 2, 3, 4, 5, 6, 7, 8, 9])"
            ]
          },
          "metadata": {},
          "execution_count": 64
        }
      ],
      "source": [
        "contador = np.arange(10)\n",
        "contador"
      ]
    },
    {
      "cell_type": "code",
      "execution_count": 65,
      "metadata": {
        "id": "vXLIO1cVltpc",
        "colab": {
          "base_uri": "https://localhost:8080/"
        },
        "outputId": "fdd3f7b7-804b-4b88-d11a-920a00a3f6ae"
      },
      "outputs": [
        {
          "output_type": "execute_result",
          "data": {
            "text/plain": [
              "array([1, 2, 3])"
            ]
          },
          "metadata": {},
          "execution_count": 65
        }
      ],
      "source": [
        "contador[1:4]"
      ]
    },
    {
      "cell_type": "code",
      "execution_count": 66,
      "metadata": {
        "id": "kYLgsQcHltpc",
        "colab": {
          "base_uri": "https://localhost:8080/"
        },
        "outputId": "9e0f08ab-ea6c-4205-89c2-36c9816ba538"
      },
      "outputs": [
        {
          "output_type": "execute_result",
          "data": {
            "text/plain": [
              "array([1, 3, 5, 7])"
            ]
          },
          "metadata": {},
          "execution_count": 66
        }
      ],
      "source": [
        "contador[1:8:2]"
      ]
    },
    {
      "cell_type": "code",
      "execution_count": 68,
      "metadata": {
        "id": "H2MJpIasltpd",
        "colab": {
          "base_uri": "https://localhost:8080/"
        },
        "outputId": "b3335e0f-aae9-40be-c670-fc7e0abb650c"
      },
      "outputs": [
        {
          "output_type": "execute_result",
          "data": {
            "text/plain": [
              "array([0, 2, 4, 6, 8])"
            ]
          },
          "metadata": {},
          "execution_count": 68
        }
      ],
      "source": [
        "contador[::2]"
      ]
    },
    {
      "cell_type": "code",
      "execution_count": 69,
      "metadata": {
        "id": "YVzf4fNCltpe",
        "colab": {
          "base_uri": "https://localhost:8080/"
        },
        "outputId": "4d050e7e-21e6-47cd-8661-288e076c3597"
      },
      "outputs": [
        {
          "output_type": "execute_result",
          "data": {
            "text/plain": [
              "array([1, 3, 5, 7, 9])"
            ]
          },
          "metadata": {},
          "execution_count": 69
        }
      ],
      "source": [
        "contador[1::2]"
      ]
    },
    {
      "cell_type": "code",
      "execution_count": 70,
      "metadata": {
        "id": "bPyQsUFPltpf",
        "colab": {
          "base_uri": "https://localhost:8080/"
        },
        "outputId": "0b980b54-a4d0-41bb-a7f3-24861e823b16"
      },
      "outputs": [
        {
          "output_type": "execute_result",
          "data": {
            "text/plain": [
              "array([[44410.,  5712., 37123.,     0., 25757.],\n",
              "       [ 2003.,  1991.,  1990.,  2019.,  2006.]])"
            ]
          },
          "metadata": {},
          "execution_count": 70
        }
      ],
      "source": [
        "dados"
      ]
    },
    {
      "cell_type": "code",
      "execution_count": 72,
      "metadata": {
        "id": "IRxfixG-ltpg",
        "colab": {
          "base_uri": "https://localhost:8080/"
        },
        "outputId": "3eab03fd-89cb-42a5-9e7a-2f053a88e552"
      },
      "outputs": [
        {
          "output_type": "execute_result",
          "data": {
            "text/plain": [
              "array([[ 5712., 37123.],\n",
              "       [ 1991.,  1990.]])"
            ]
          },
          "metadata": {},
          "execution_count": 72
        }
      ],
      "source": [
        "dados[:, 1:3]"
      ]
    },
    {
      "cell_type": "code",
      "execution_count": 76,
      "metadata": {
        "id": "wfoJ84haltph",
        "colab": {
          "base_uri": "https://localhost:8080/"
        },
        "outputId": "0ece31ad-0c7c-4334-eac3-c252051d1f98"
      },
      "outputs": [
        {
          "output_type": "execute_result",
          "data": {
            "text/plain": [
              "array([ 204.        , 1280.10344828])"
            ]
          },
          "metadata": {},
          "execution_count": 76
        }
      ],
      "source": [
        "dados[:, 1:3][0] / (2019 - dados[:, 1:3][1])"
      ]
    },
    {
      "cell_type": "code",
      "execution_count": 78,
      "metadata": {
        "id": "UeejSXUAltph"
      },
      "outputs": [],
      "source": [
        "# dados[0] / (2019 - dados[1])"
      ]
    },
    {
      "cell_type": "markdown",
      "metadata": {
        "id": "-fW4EXIqltpi"
      },
      "source": [
        "### Indexação com array booleano\n",
        "\n",
        "<font color=red>**Observação:**</font> Seleciona um grupo de linhas e colunas segundo os rótulos ou um array booleano."
      ]
    },
    {
      "cell_type": "code",
      "execution_count": 79,
      "metadata": {
        "id": "MgmH-rCSltpi",
        "colab": {
          "base_uri": "https://localhost:8080/"
        },
        "outputId": "65652877-0382-4721-e685-9ba9de8b6e19"
      },
      "outputs": [
        {
          "output_type": "execute_result",
          "data": {
            "text/plain": [
              "array([0, 1, 2, 3, 4, 5, 6, 7, 8, 9])"
            ]
          },
          "metadata": {},
          "execution_count": 79
        }
      ],
      "source": [
        "contador = np.arange(10)\n",
        "contador"
      ]
    },
    {
      "cell_type": "code",
      "execution_count": 80,
      "metadata": {
        "id": "HN1i-BlLltpj",
        "colab": {
          "base_uri": "https://localhost:8080/"
        },
        "outputId": "b59cf030-bdfe-4dc0-9f07-17ecc203f040"
      },
      "outputs": [
        {
          "output_type": "execute_result",
          "data": {
            "text/plain": [
              "array([False, False, False, False, False, False,  True,  True,  True,\n",
              "        True])"
            ]
          },
          "metadata": {},
          "execution_count": 80
        }
      ],
      "source": [
        "contador > 5"
      ]
    },
    {
      "cell_type": "code",
      "execution_count": 81,
      "metadata": {
        "id": "iXJa9tL4ltpj",
        "colab": {
          "base_uri": "https://localhost:8080/"
        },
        "outputId": "911cae02-d7b8-49ca-fc25-e60223569ff4"
      },
      "outputs": [
        {
          "output_type": "execute_result",
          "data": {
            "text/plain": [
              "array([6, 7, 8, 9])"
            ]
          },
          "metadata": {},
          "execution_count": 81
        }
      ],
      "source": [
        "contador [contador > 5]"
      ]
    },
    {
      "cell_type": "code",
      "execution_count": 84,
      "metadata": {
        "id": "54gH6X5eltpk",
        "colab": {
          "base_uri": "https://localhost:8080/"
        },
        "outputId": "e2cb4736-81b8-4b14-c06d-77f7d2282a4e"
      },
      "outputs": [
        {
          "output_type": "execute_result",
          "data": {
            "text/plain": [
              "array([6, 7, 8, 9])"
            ]
          },
          "metadata": {},
          "execution_count": 84
        }
      ],
      "source": [
        "contador[[False, False, False, False, False, False,  True,  True,  True, True]]"
      ]
    },
    {
      "cell_type": "code",
      "execution_count": 85,
      "metadata": {
        "id": "F3z6zMELltpk",
        "colab": {
          "base_uri": "https://localhost:8080/"
        },
        "outputId": "cc172281-075d-4ad6-9a35-0aae45534c72"
      },
      "outputs": [
        {
          "output_type": "execute_result",
          "data": {
            "text/plain": [
              "array([[44410.,  5712., 37123.,     0., 25757.],\n",
              "       [ 2003.,  1991.,  1990.,  2019.,  2006.]])"
            ]
          },
          "metadata": {},
          "execution_count": 85
        }
      ],
      "source": [
        "dados"
      ]
    },
    {
      "cell_type": "code",
      "execution_count": 86,
      "metadata": {
        "id": "pk8A68z1ltpl",
        "colab": {
          "base_uri": "https://localhost:8080/"
        },
        "outputId": "a9892298-449d-4539-eb44-9441fae312db"
      },
      "outputs": [
        {
          "output_type": "execute_result",
          "data": {
            "text/plain": [
              "array([ True, False, False,  True,  True])"
            ]
          },
          "metadata": {},
          "execution_count": 86
        }
      ],
      "source": [
        "dados [1] > 2000"
      ]
    },
    {
      "cell_type": "code",
      "execution_count": 87,
      "metadata": {
        "id": "WUVMN29_ltpm",
        "colab": {
          "base_uri": "https://localhost:8080/"
        },
        "outputId": "972ad629-03b5-46e1-e03b-69ca820798d2"
      },
      "outputs": [
        {
          "output_type": "execute_result",
          "data": {
            "text/plain": [
              "array([[44410.,     0., 25757.],\n",
              "       [ 2003.,  2019.,  2006.]])"
            ]
          },
          "metadata": {},
          "execution_count": 87
        }
      ],
      "source": [
        "dados[:, dados [1] > 2000 ]"
      ]
    },
    {
      "cell_type": "markdown",
      "metadata": {
        "id": "Acw1DffHltpn"
      },
      "source": [
        "# 5.4 Atributos e métodos de arrays Numpy"
      ]
    },
    {
      "cell_type": "markdown",
      "metadata": {
        "id": "RBnSne6Eltpo"
      },
      "source": [
        "### Atributos\n",
        "\n",
        "https://numpy.org/doc/1.16/reference/arrays.ndarray.html#array-attributes"
      ]
    },
    {
      "cell_type": "code",
      "execution_count": 7,
      "metadata": {
        "id": "stjvD6m8ltpo",
        "colab": {
          "base_uri": "https://localhost:8080/"
        },
        "outputId": "c5782b03-25f8-4ea5-a6ca-56c8dc4e6928"
      },
      "outputs": [
        {
          "output_type": "execute_result",
          "data": {
            "text/plain": [
              "array([[44410.,  5712., 37123.,     0., 25757.],\n",
              "       [ 2003.,  1991.,  1990.,  2019.,  2006.]])"
            ]
          },
          "metadata": {},
          "execution_count": 7
        }
      ],
      "source": [
        "dados = np.array([km, anos])\n",
        "dados"
      ]
    },
    {
      "cell_type": "markdown",
      "metadata": {
        "id": "uKqPxg2Zltpo"
      },
      "source": [
        "## *ndarray.shape*\n",
        "\n",
        "Retorna uma tupla com as dimensões do array."
      ]
    },
    {
      "cell_type": "code",
      "execution_count": 8,
      "metadata": {
        "id": "gmaZhF04ltpp",
        "colab": {
          "base_uri": "https://localhost:8080/"
        },
        "outputId": "5b2c38f0-4173-4694-8bb6-713e6b2dc5d1"
      },
      "outputs": [
        {
          "output_type": "execute_result",
          "data": {
            "text/plain": [
              "(2, 5)"
            ]
          },
          "metadata": {},
          "execution_count": 8
        }
      ],
      "source": [
        "dados.shape"
      ]
    },
    {
      "cell_type": "markdown",
      "metadata": {
        "id": "XaY6oXkmltpp"
      },
      "source": [
        "## *ndarray.ndim*\n",
        "\n",
        "Retorna o número de dimensões do array."
      ]
    },
    {
      "cell_type": "code",
      "execution_count": 9,
      "metadata": {
        "id": "inJ4HDjaltpq",
        "colab": {
          "base_uri": "https://localhost:8080/"
        },
        "outputId": "275577a9-56df-40ca-e496-a718f47064ad"
      },
      "outputs": [
        {
          "output_type": "execute_result",
          "data": {
            "text/plain": [
              "2"
            ]
          },
          "metadata": {},
          "execution_count": 9
        }
      ],
      "source": [
        "dados.ndim"
      ]
    },
    {
      "cell_type": "markdown",
      "metadata": {
        "id": "ESgVt5xOltpq"
      },
      "source": [
        "## *ndarray.size*\n",
        "\n",
        "Retorna o número de elementos do array."
      ]
    },
    {
      "cell_type": "code",
      "execution_count": 10,
      "metadata": {
        "id": "BWr4efoiltpq",
        "colab": {
          "base_uri": "https://localhost:8080/"
        },
        "outputId": "c17810ec-5033-4ec4-9b85-1e6431e1c0a4"
      },
      "outputs": [
        {
          "output_type": "execute_result",
          "data": {
            "text/plain": [
              "10"
            ]
          },
          "metadata": {},
          "execution_count": 10
        }
      ],
      "source": [
        "dados.size"
      ]
    },
    {
      "cell_type": "markdown",
      "metadata": {
        "id": "Ox8JlBM3ltpr"
      },
      "source": [
        "## *ndarray.dtype*\n",
        "\n",
        "Retorna o tipo de dados dos elementos do array."
      ]
    },
    {
      "cell_type": "code",
      "execution_count": 11,
      "metadata": {
        "id": "npiL84Vfltpu",
        "colab": {
          "base_uri": "https://localhost:8080/"
        },
        "outputId": "238d66b5-1910-4fc9-fec8-9245c9dbc942"
      },
      "outputs": [
        {
          "output_type": "execute_result",
          "data": {
            "text/plain": [
              "dtype('float64')"
            ]
          },
          "metadata": {},
          "execution_count": 11
        }
      ],
      "source": [
        "dados.dtype"
      ]
    },
    {
      "cell_type": "markdown",
      "metadata": {
        "id": "j7uPN16oltpv"
      },
      "source": [
        "## *ndarray.T*\n",
        "\n",
        "Retorna o array transposto, isto é, converte linhas em colunas e vice versa."
      ]
    },
    {
      "cell_type": "code",
      "execution_count": 12,
      "metadata": {
        "id": "bLjrrx56ltpv",
        "colab": {
          "base_uri": "https://localhost:8080/"
        },
        "outputId": "d24b8542-7c2b-456d-e985-305048f4b85d"
      },
      "outputs": [
        {
          "output_type": "execute_result",
          "data": {
            "text/plain": [
              "array([[44410.,  2003.],\n",
              "       [ 5712.,  1991.],\n",
              "       [37123.,  1990.],\n",
              "       [    0.,  2019.],\n",
              "       [25757.,  2006.]])"
            ]
          },
          "metadata": {},
          "execution_count": 12
        }
      ],
      "source": [
        "dados.T"
      ]
    },
    {
      "cell_type": "code",
      "execution_count": 13,
      "metadata": {
        "id": "5A9SlJQvltpw",
        "colab": {
          "base_uri": "https://localhost:8080/"
        },
        "outputId": "838be9ab-aa91-40a4-c605-45c4a229536e"
      },
      "outputs": [
        {
          "output_type": "execute_result",
          "data": {
            "text/plain": [
              "array([[44410.,  2003.],\n",
              "       [ 5712.,  1991.],\n",
              "       [37123.,  1990.],\n",
              "       [    0.,  2019.],\n",
              "       [25757.,  2006.]])"
            ]
          },
          "metadata": {},
          "execution_count": 13
        }
      ],
      "source": [
        "dados.transpose()"
      ]
    },
    {
      "cell_type": "markdown",
      "metadata": {
        "id": "e9r6ryTrltpw"
      },
      "source": [
        "### Métodos\n",
        "\n",
        "https://numpy.org/doc/1.16/reference/arrays.ndarray.html#array-methods"
      ]
    },
    {
      "cell_type": "markdown",
      "metadata": {
        "id": "SR9KYy-0ltpw"
      },
      "source": [
        "## *ndarray.tolist()*\n",
        "\n",
        "Retorna o array como uma lista Python."
      ]
    },
    {
      "cell_type": "code",
      "execution_count": 14,
      "metadata": {
        "id": "C2aTAwOXltpw",
        "colab": {
          "base_uri": "https://localhost:8080/"
        },
        "outputId": "4c2a6003-3460-4a1b-d5aa-0431906e2821"
      },
      "outputs": [
        {
          "output_type": "execute_result",
          "data": {
            "text/plain": [
              "[[44410.0, 5712.0, 37123.0, 0.0, 25757.0],\n",
              " [2003.0, 1991.0, 1990.0, 2019.0, 2006.0]]"
            ]
          },
          "metadata": {},
          "execution_count": 14
        }
      ],
      "source": [
        "dados.tolist()"
      ]
    },
    {
      "cell_type": "markdown",
      "metadata": {
        "id": "bHxcxugPltpx"
      },
      "source": [
        "## *ndarray.reshape(shape[, order])*\n",
        "\n",
        "Retorna um array que contém os mesmos dados com uma nova forma."
      ]
    },
    {
      "cell_type": "code",
      "execution_count": 15,
      "metadata": {
        "id": "lwESxO71ltpx",
        "colab": {
          "base_uri": "https://localhost:8080/"
        },
        "outputId": "16d9ed01-5c55-4ce6-fece-99bc1ffb6350"
      },
      "outputs": [
        {
          "output_type": "execute_result",
          "data": {
            "text/plain": [
              "array([0, 1, 2, 3, 4, 5, 6, 7, 8, 9])"
            ]
          },
          "metadata": {},
          "execution_count": 15
        }
      ],
      "source": [
        "contador = np.arange(10)\n",
        "contador"
      ]
    },
    {
      "cell_type": "code",
      "execution_count": 16,
      "metadata": {
        "id": "sh9poyfzltpy",
        "colab": {
          "base_uri": "https://localhost:8080/"
        },
        "outputId": "64e6283a-5907-4d70-c71a-c58061b1ce1c"
      },
      "outputs": [
        {
          "output_type": "execute_result",
          "data": {
            "text/plain": [
              "array([[0, 1],\n",
              "       [2, 3],\n",
              "       [4, 5],\n",
              "       [6, 7],\n",
              "       [8, 9]])"
            ]
          },
          "metadata": {},
          "execution_count": 16
        }
      ],
      "source": [
        "contador.reshape((5,2))"
      ]
    },
    {
      "cell_type": "code",
      "execution_count": 17,
      "metadata": {
        "id": "5332Xu8-ltpy",
        "colab": {
          "base_uri": "https://localhost:8080/"
        },
        "outputId": "6b1ba288-2a06-4f21-f3e3-4bba92e2f3c8"
      },
      "outputs": [
        {
          "output_type": "execute_result",
          "data": {
            "text/plain": [
              "array([[0, 1],\n",
              "       [2, 3],\n",
              "       [4, 5],\n",
              "       [6, 7],\n",
              "       [8, 9]])"
            ]
          },
          "metadata": {},
          "execution_count": 17
        }
      ],
      "source": [
        "contador.reshape((5,2),order='C')"
      ]
    },
    {
      "cell_type": "code",
      "execution_count": 18,
      "metadata": {
        "id": "2RoZvbgHltpz",
        "colab": {
          "base_uri": "https://localhost:8080/"
        },
        "outputId": "0d6ce095-bf16-4076-b9df-37011119a80b"
      },
      "outputs": [
        {
          "output_type": "execute_result",
          "data": {
            "text/plain": [
              "array([[0, 5],\n",
              "       [1, 6],\n",
              "       [2, 7],\n",
              "       [3, 8],\n",
              "       [4, 9]])"
            ]
          },
          "metadata": {},
          "execution_count": 18
        }
      ],
      "source": [
        "contador.reshape((5,2),order='F')"
      ]
    },
    {
      "cell_type": "code",
      "execution_count": 19,
      "metadata": {
        "id": "6q0dJZ-dltp0"
      },
      "outputs": [],
      "source": [
        "km = [44410, 5712, 37123, 0, 25757]\n",
        "anos = [2003, 1991, 1990, 2019, 2006]"
      ]
    },
    {
      "cell_type": "code",
      "execution_count": 20,
      "metadata": {
        "id": "bs56aGrkltp0",
        "colab": {
          "base_uri": "https://localhost:8080/"
        },
        "outputId": "80e316af-76d2-472c-8cbe-3ffa59320971"
      },
      "outputs": [
        {
          "output_type": "execute_result",
          "data": {
            "text/plain": [
              "[44410, 5712, 37123, 0, 25757, 2003, 1991, 1990, 2019, 2006]"
            ]
          },
          "metadata": {},
          "execution_count": 20
        }
      ],
      "source": [
        "info_carros = km + anos\n",
        "info_carros"
      ]
    },
    {
      "cell_type": "code",
      "execution_count": 21,
      "metadata": {
        "id": "s_GkTk2fltp1",
        "colab": {
          "base_uri": "https://localhost:8080/"
        },
        "outputId": "0df45975-b805-4281-c70c-309c0e182d31"
      },
      "outputs": [
        {
          "output_type": "execute_result",
          "data": {
            "text/plain": [
              "array([[44410,  5712, 37123,     0, 25757],\n",
              "       [ 2003,  1991,  1990,  2019,  2006]])"
            ]
          },
          "metadata": {},
          "execution_count": 21
        }
      ],
      "source": [
        "np.array(info_carros).reshape((2,5))"
      ]
    },
    {
      "cell_type": "code",
      "execution_count": 22,
      "metadata": {
        "id": "xodm8DVZltp1",
        "colab": {
          "base_uri": "https://localhost:8080/"
        },
        "outputId": "16949f09-a33f-48a2-f5b2-bfe22b0461cf"
      },
      "outputs": [
        {
          "output_type": "execute_result",
          "data": {
            "text/plain": [
              "array([[44410,  2003],\n",
              "       [ 5712,  1991],\n",
              "       [37123,  1990],\n",
              "       [    0,  2019],\n",
              "       [25757,  2006]])"
            ]
          },
          "metadata": {},
          "execution_count": 22
        }
      ],
      "source": [
        "np.array(info_carros).reshape((5,2),order = 'F')"
      ]
    },
    {
      "cell_type": "markdown",
      "metadata": {
        "id": "Tdj5iArbltp2"
      },
      "source": [
        "## *ndarray.resize(new_shape[, refcheck])*\n",
        "\n",
        "Altera a forma e o tamanho do array."
      ]
    },
    {
      "cell_type": "code",
      "execution_count": 23,
      "metadata": {
        "id": "vB2zxCDtltp2",
        "colab": {
          "base_uri": "https://localhost:8080/"
        },
        "outputId": "6914bf5e-bc4f-469c-803e-a2214cb116a6"
      },
      "outputs": [
        {
          "output_type": "execute_result",
          "data": {
            "text/plain": [
              "array([[44410.,  5712., 37123.,     0., 25757.],\n",
              "       [ 2003.,  1991.,  1990.,  2019.,  2006.]])"
            ]
          },
          "metadata": {},
          "execution_count": 23
        }
      ],
      "source": [
        "dados_new = dados.copy()\n",
        "dados_new"
      ]
    },
    {
      "cell_type": "code",
      "execution_count": 26,
      "metadata": {
        "id": "IMv0m4Multp2"
      },
      "outputs": [],
      "source": [
        "dados_new.resize((3,5), refcheck=False)"
      ]
    },
    {
      "cell_type": "code",
      "execution_count": 27,
      "metadata": {
        "id": "wpAi9928ltp3",
        "colab": {
          "base_uri": "https://localhost:8080/"
        },
        "outputId": "2189b523-06cc-4219-9bbb-745bc927aec0"
      },
      "outputs": [
        {
          "output_type": "execute_result",
          "data": {
            "text/plain": [
              "array([[44410.,  5712., 37123.,     0., 25757.],\n",
              "       [ 2003.,  1991.,  1990.,  2019.,  2006.],\n",
              "       [    0.,     0.,     0.,     0.,     0.]])"
            ]
          },
          "metadata": {},
          "execution_count": 27
        }
      ],
      "source": [
        "dados_new"
      ]
    },
    {
      "cell_type": "code",
      "execution_count": 28,
      "metadata": {
        "id": "CJyuKqaFltp3",
        "colab": {
          "base_uri": "https://localhost:8080/"
        },
        "outputId": "839bbda7-c925-4448-e12f-870049480a3c"
      },
      "outputs": [
        {
          "output_type": "stream",
          "name": "stderr",
          "text": [
            "<ipython-input-28-f9c7ebd2c682>:1: RuntimeWarning: invalid value encountered in true_divide\n",
            "  dados_new[2] = dados_new[0] / (2019 - dados_new[1])\n"
          ]
        }
      ],
      "source": [
        "dados_new[2] = dados_new[0] / (2019 - dados_new[1])"
      ]
    },
    {
      "cell_type": "code",
      "execution_count": 29,
      "metadata": {
        "id": "bj_iPZAultp4",
        "colab": {
          "base_uri": "https://localhost:8080/"
        },
        "outputId": "0a0aed2e-ca6b-4d3e-e143-f56bf8657cc5"
      },
      "outputs": [
        {
          "output_type": "execute_result",
          "data": {
            "text/plain": [
              "array([[44410.        ,  5712.        , 37123.        ,     0.        ,\n",
              "        25757.        ],\n",
              "       [ 2003.        ,  1991.        ,  1990.        ,  2019.        ,\n",
              "         2006.        ],\n",
              "       [ 2775.625     ,   204.        ,  1280.10344828,            nan,\n",
              "         1981.30769231]])"
            ]
          },
          "metadata": {},
          "execution_count": 29
        }
      ],
      "source": [
        "dados_new"
      ]
    },
    {
      "cell_type": "markdown",
      "metadata": {
        "id": "GPSk7Q_Dltp4"
      },
      "source": [
        "# 5.5 Estatísticas com arrays Numpy\n",
        "\n",
        "https://numpy.org/doc/1.16/reference/arrays.ndarray.html#calculation\n",
        "\n",
        "e\n",
        "\n",
        "https://numpy.org/doc/1.16/reference/routines.statistics.html\n",
        "\n",
        "e\n",
        "\n",
        "https://numpy.org/doc/1.16/reference/routines.math.html"
      ]
    },
    {
      "cell_type": "code",
      "execution_count": 30,
      "metadata": {
        "id": "RH2u1orXltp5"
      },
      "outputs": [],
      "source": [
        "anos = np.loadtxt(fname = \"carros-anos.txt\", dtype = int)\n",
        "km = np.loadtxt(fname = \"carros-km.txt\")\n",
        "valor = np.loadtxt(fname = \"carros-valor.txt\")"
      ]
    },
    {
      "cell_type": "code",
      "execution_count": 31,
      "metadata": {
        "id": "wbITF7r6ltp5",
        "colab": {
          "base_uri": "https://localhost:8080/"
        },
        "outputId": "4b513461-e971-4c8f-e188-42792634916e"
      },
      "outputs": [
        {
          "output_type": "execute_result",
          "data": {
            "text/plain": [
              "(258,)"
            ]
          },
          "metadata": {},
          "execution_count": 31
        }
      ],
      "source": [
        "anos.shape"
      ]
    },
    {
      "cell_type": "markdown",
      "metadata": {
        "id": "U_x3SOVDltp7"
      },
      "source": [
        "https://numpy.org/doc/1.16/reference/generated/numpy.column_stack.html"
      ]
    },
    {
      "cell_type": "code",
      "execution_count": null,
      "metadata": {
        "id": "wefxl-XBltp8"
      },
      "outputs": [],
      "source": [
        "dataset  = np.column_stack((anos, km, valor))\n",
        "dataset"
      ]
    },
    {
      "cell_type": "code",
      "execution_count": 33,
      "metadata": {
        "id": "OzDTTmj8ltp_",
        "scrolled": true,
        "colab": {
          "base_uri": "https://localhost:8080/"
        },
        "outputId": "29a95685-17f7-4688-d033-8c10685b6762"
      },
      "outputs": [
        {
          "output_type": "execute_result",
          "data": {
            "text/plain": [
              "(258, 3)"
            ]
          },
          "metadata": {},
          "execution_count": 33
        }
      ],
      "source": [
        "dataset.shape"
      ]
    },
    {
      "cell_type": "markdown",
      "metadata": {
        "id": "Me6yUU_RltqA"
      },
      "source": [
        "## *np.mean()*\n",
        "\n",
        "Retorna a média dos elementos do array ao longo do eixo especificado."
      ]
    },
    {
      "cell_type": "code",
      "execution_count": 35,
      "metadata": {
        "id": "MNEKcP38ltqA",
        "colab": {
          "base_uri": "https://localhost:8080/"
        },
        "outputId": "2c383b38-1d80-4baf-893a-34a9b0f7c606"
      },
      "outputs": [
        {
          "output_type": "execute_result",
          "data": {
            "text/plain": [
              "array([ 2007.51162791, 44499.41472868, 98960.51310078])"
            ]
          },
          "metadata": {},
          "execution_count": 35
        }
      ],
      "source": [
        "np.mean(dataset, axis = 0)"
      ]
    },
    {
      "cell_type": "code",
      "execution_count": null,
      "metadata": {
        "id": "sekHQ84zltqB"
      },
      "outputs": [],
      "source": [
        "np.mean(dataset, axis = 1)"
      ]
    },
    {
      "cell_type": "code",
      "execution_count": 37,
      "metadata": {
        "id": "RpyETIVSltqC",
        "colab": {
          "base_uri": "https://localhost:8080/"
        },
        "outputId": "0f36b13e-5867-4e23-a1d7-e0b6d92e4b9f"
      },
      "outputs": [
        {
          "output_type": "execute_result",
          "data": {
            "text/plain": [
              "44499.41472868217"
            ]
          },
          "metadata": {},
          "execution_count": 37
        }
      ],
      "source": [
        "np.mean(dataset[:, 1])"
      ]
    },
    {
      "cell_type": "code",
      "execution_count": 38,
      "metadata": {
        "id": "_-kpcTI8ltqD",
        "scrolled": true,
        "colab": {
          "base_uri": "https://localhost:8080/"
        },
        "outputId": "78b7eb2c-f5e8-4ad6-cd72-c7f3e069664d"
      },
      "outputs": [
        {
          "output_type": "execute_result",
          "data": {
            "text/plain": [
              "98960.51310077519"
            ]
          },
          "metadata": {},
          "execution_count": 38
        }
      ],
      "source": [
        "np.mean(dataset[:, 2])"
      ]
    },
    {
      "cell_type": "markdown",
      "metadata": {
        "id": "71jViVBUltqE"
      },
      "source": [
        "## *np.std()*\n",
        "\n",
        "Retorna o desvio padrão dos elementos do array ao longo do eixo especificado."
      ]
    },
    {
      "cell_type": "code",
      "execution_count": 39,
      "metadata": {
        "id": "lEwUbPx2ltqE",
        "scrolled": true,
        "colab": {
          "base_uri": "https://localhost:8080/"
        },
        "outputId": "9728c10c-2a2a-463f-ca4c-9a7faca558c5"
      },
      "outputs": [
        {
          "output_type": "execute_result",
          "data": {
            "text/plain": [
              "29754.101150388564"
            ]
          },
          "metadata": {},
          "execution_count": 39
        }
      ],
      "source": [
        "np.std(dataset[:, 2])"
      ]
    },
    {
      "cell_type": "markdown",
      "metadata": {
        "id": "JTUH-vAeltqG"
      },
      "source": [
        "## *ndarray.sum()*\n",
        "\n",
        "Retorna a soma dos elementos do array ao longo do eixo especificado."
      ]
    },
    {
      "cell_type": "code",
      "execution_count": 40,
      "metadata": {
        "id": "jIi3yoaWltqG",
        "colab": {
          "base_uri": "https://localhost:8080/"
        },
        "outputId": "5f2006a6-a891-443d-9d9b-c244ba3b98be"
      },
      "outputs": [
        {
          "output_type": "execute_result",
          "data": {
            "text/plain": [
              "array([  517938.        , 11480849.        , 25531812.37999999])"
            ]
          },
          "metadata": {},
          "execution_count": 40
        }
      ],
      "source": [
        "dataset.sum(axis = 0)"
      ]
    },
    {
      "cell_type": "code",
      "execution_count": 41,
      "metadata": {
        "id": "X3QYbdYLltqH",
        "colab": {
          "base_uri": "https://localhost:8080/"
        },
        "outputId": "1dd0b254-d0ad-4f2e-f507-84fe04a5c532"
      },
      "outputs": [
        {
          "output_type": "execute_result",
          "data": {
            "text/plain": [
              "11480849.0"
            ]
          },
          "metadata": {},
          "execution_count": 41
        }
      ],
      "source": [
        "dataset[:,1].sum()"
      ]
    },
    {
      "cell_type": "markdown",
      "metadata": {
        "id": "WbBD5ixaltqH"
      },
      "source": [
        "## *np.sum()*\n",
        "\n",
        "Retorna a soma dos elementos do array ao longo do eixo especificado."
      ]
    },
    {
      "cell_type": "code",
      "execution_count": 42,
      "metadata": {
        "id": "omB6kgWgltqH",
        "colab": {
          "base_uri": "https://localhost:8080/"
        },
        "outputId": "be72d66f-f5d5-4b40-996b-af00ee47abd4"
      },
      "outputs": [
        {
          "output_type": "execute_result",
          "data": {
            "text/plain": [
              "array([  517938.        , 11480849.        , 25531812.37999999])"
            ]
          },
          "metadata": {},
          "execution_count": 42
        }
      ],
      "source": [
        "np.sum(dataset, axis = 0)"
      ]
    },
    {
      "cell_type": "code",
      "execution_count": 43,
      "metadata": {
        "id": "LiD4G3kQltqI",
        "colab": {
          "base_uri": "https://localhost:8080/"
        },
        "outputId": "4ab21142-fafe-4461-f0bc-cc603f83d5a2"
      },
      "outputs": [
        {
          "output_type": "execute_result",
          "data": {
            "text/plain": [
              "25531812.38"
            ]
          },
          "metadata": {},
          "execution_count": 43
        }
      ],
      "source": [
        "np.sum(dataset[:,2])"
      ]
    }
  ],
  "metadata": {
    "colab": {
      "provenance": [],
      "collapsed_sections": [
        "8lSC0XEDltm-"
      ],
      "include_colab_link": true
    },
    "kernelspec": {
      "display_name": "Python 3",
      "language": "python",
      "name": "python3"
    },
    "language_info": {
      "codemirror_mode": {
        "name": "ipython",
        "version": 3
      },
      "file_extension": ".py",
      "mimetype": "text/x-python",
      "name": "python",
      "nbconvert_exporter": "python",
      "pygments_lexer": "ipython3",
      "version": "3.6.5"
    }
  },
  "nbformat": 4,
  "nbformat_minor": 0
}